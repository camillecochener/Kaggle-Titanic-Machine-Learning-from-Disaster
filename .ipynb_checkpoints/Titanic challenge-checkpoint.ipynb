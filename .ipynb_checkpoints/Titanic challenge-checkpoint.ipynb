{
 "cells": [
  {
   "cell_type": "markdown",
   "metadata": {},
   "source": [
    "<div align='center'><b><h2>A dive into the ML Titanic challenge</h2></b></div>"
   ]
  },
  {
   "cell_type": "markdown",
   "metadata": {},
   "source": [
    "<p align='justify'>The RMS Titanic is a British transatlantic liner that sank in the North Atlantic Ocean in 1912 after striking an iceberg on its first journey from Southampton to New York. It carried 2471 people (passengers and crew), of whom between 1490 and 1520 died, making it one of the greatest maritime disasters of the time.<br> \n",
    "The history of this liner has left its mark on memories and has led to the publication of numerous books, the making of feature films including James Cameron's film Titanic, released in 1997 and today the creation of the Kaggle Challenge \"Titanic: Machine Learning from Disaster\".</p>\n",
    "\n",
    "<p align='justify'>The data set used in this challenge contains information on 1309 passengers, including their survival after the shipwreck. The objective of the challenge is to build a model for predicting the survival of a passenger in the event of a shipwreck.</p>\n",
    "\n",
    "\n",
    "<p>The steps of the study are as follows: </p>\n",
    "\n",
    "<ul>\n",
    "    <ol><b>I. Importation and presentation of the data</b></ol>\n",
    "    <ol><b>II. Exploratory analysis and preparation of each variable</b></ol>\n",
    "    <ol><b>III. Searching for a predictive model</b></ol>\n",
    "    <ol><b>IV. Predictions of new data</b></ol>\n",
    "    </ul>\n"
   ]
  },
  {
   "cell_type": "markdown",
   "metadata": {},
   "source": [
    "<b>Library importation</b>"
   ]
  },
  {
   "cell_type": "code",
   "execution_count": 2,
   "metadata": {},
   "outputs": [],
   "source": [
    "import pandas as pd\n",
    "import matplotlib.pyplot as plt\n",
    "import seaborn as sns\n",
    "import numpy as np\n",
    "import re  \n",
    "from scipy.stats import norm\n",
    "from sklearn.experimental import enable_iterative_imputer\n",
    "from sklearn.ensemble import ExtraTreesRegressor\n",
    "from sklearn.impute import IterativeImputer\n",
    "from sklearn.neighbors import KNeighborsRegressor\n",
    "from collections import Counter\n",
    "from sklearn.preprocessing import StandardScaler\n",
    "from sklearn.decomposition import PCA\n",
    "import scipy.stats"
   ]
  },
  {
   "cell_type": "markdown",
   "metadata": {},
   "source": [
    "<ul><ol><b><h2>I. Importation and presentation of the data</h3></b></ol><ul>"
   ]
  },
  {
   "cell_type": "markdown",
   "metadata": {},
   "source": [
    "<p>The data for the Titanic challenge consists of two sets:</p>\n",
    "- a training set called ```train``` on which we'll prepare the data and train an algorithm\n",
    "- a test set called ```test``` that the algorithm will never have seen and for which we will predict the survival of individuals \n"
   ]
  },
  {
   "cell_type": "code",
   "execution_count": 3,
   "metadata": {},
   "outputs": [],
   "source": [
    "train = pd.read_csv(\"data/train.csv\")\n",
    "test = pd.read_csv(\"data/test.csv\")"
   ]
  },
  {
   "cell_type": "markdown",
   "metadata": {},
   "source": [
    "Here is a first overview of the Titanic ```train``` dataset :"
   ]
  },
  {
   "cell_type": "code",
   "execution_count": 4,
   "metadata": {},
   "outputs": [
    {
     "data": {
      "text/html": [
       "<div>\n",
       "<style scoped>\n",
       "    .dataframe tbody tr th:only-of-type {\n",
       "        vertical-align: middle;\n",
       "    }\n",
       "\n",
       "    .dataframe tbody tr th {\n",
       "        vertical-align: top;\n",
       "    }\n",
       "\n",
       "    .dataframe thead th {\n",
       "        text-align: right;\n",
       "    }\n",
       "</style>\n",
       "<table border=\"1\" class=\"dataframe\">\n",
       "  <thead>\n",
       "    <tr style=\"text-align: right;\">\n",
       "      <th></th>\n",
       "      <th>PassengerId</th>\n",
       "      <th>Survived</th>\n",
       "      <th>Pclass</th>\n",
       "      <th>Name</th>\n",
       "      <th>Sex</th>\n",
       "      <th>Age</th>\n",
       "      <th>SibSp</th>\n",
       "      <th>Parch</th>\n",
       "      <th>Ticket</th>\n",
       "      <th>Fare</th>\n",
       "      <th>Cabin</th>\n",
       "      <th>Embarked</th>\n",
       "    </tr>\n",
       "  </thead>\n",
       "  <tbody>\n",
       "    <tr>\n",
       "      <th>0</th>\n",
       "      <td>1</td>\n",
       "      <td>0</td>\n",
       "      <td>3</td>\n",
       "      <td>Braund, Mr. Owen Harris</td>\n",
       "      <td>male</td>\n",
       "      <td>22.0</td>\n",
       "      <td>1</td>\n",
       "      <td>0</td>\n",
       "      <td>A/5 21171</td>\n",
       "      <td>7.2500</td>\n",
       "      <td>NaN</td>\n",
       "      <td>S</td>\n",
       "    </tr>\n",
       "    <tr>\n",
       "      <th>1</th>\n",
       "      <td>2</td>\n",
       "      <td>1</td>\n",
       "      <td>1</td>\n",
       "      <td>Cumings, Mrs. John Bradley (Florence Briggs Th...</td>\n",
       "      <td>female</td>\n",
       "      <td>38.0</td>\n",
       "      <td>1</td>\n",
       "      <td>0</td>\n",
       "      <td>PC 17599</td>\n",
       "      <td>71.2833</td>\n",
       "      <td>C85</td>\n",
       "      <td>C</td>\n",
       "    </tr>\n",
       "    <tr>\n",
       "      <th>2</th>\n",
       "      <td>3</td>\n",
       "      <td>1</td>\n",
       "      <td>3</td>\n",
       "      <td>Heikkinen, Miss. Laina</td>\n",
       "      <td>female</td>\n",
       "      <td>26.0</td>\n",
       "      <td>0</td>\n",
       "      <td>0</td>\n",
       "      <td>STON/O2. 3101282</td>\n",
       "      <td>7.9250</td>\n",
       "      <td>NaN</td>\n",
       "      <td>S</td>\n",
       "    </tr>\n",
       "    <tr>\n",
       "      <th>3</th>\n",
       "      <td>4</td>\n",
       "      <td>1</td>\n",
       "      <td>1</td>\n",
       "      <td>Futrelle, Mrs. Jacques Heath (Lily May Peel)</td>\n",
       "      <td>female</td>\n",
       "      <td>35.0</td>\n",
       "      <td>1</td>\n",
       "      <td>0</td>\n",
       "      <td>113803</td>\n",
       "      <td>53.1000</td>\n",
       "      <td>C123</td>\n",
       "      <td>S</td>\n",
       "    </tr>\n",
       "    <tr>\n",
       "      <th>4</th>\n",
       "      <td>5</td>\n",
       "      <td>0</td>\n",
       "      <td>3</td>\n",
       "      <td>Allen, Mr. William Henry</td>\n",
       "      <td>male</td>\n",
       "      <td>35.0</td>\n",
       "      <td>0</td>\n",
       "      <td>0</td>\n",
       "      <td>373450</td>\n",
       "      <td>8.0500</td>\n",
       "      <td>NaN</td>\n",
       "      <td>S</td>\n",
       "    </tr>\n",
       "  </tbody>\n",
       "</table>\n",
       "</div>"
      ],
      "text/plain": [
       "   PassengerId  Survived  Pclass  \\\n",
       "0            1         0       3   \n",
       "1            2         1       1   \n",
       "2            3         1       3   \n",
       "3            4         1       1   \n",
       "4            5         0       3   \n",
       "\n",
       "                                                Name     Sex   Age  SibSp  \\\n",
       "0                            Braund, Mr. Owen Harris    male  22.0      1   \n",
       "1  Cumings, Mrs. John Bradley (Florence Briggs Th...  female  38.0      1   \n",
       "2                             Heikkinen, Miss. Laina  female  26.0      0   \n",
       "3       Futrelle, Mrs. Jacques Heath (Lily May Peel)  female  35.0      1   \n",
       "4                           Allen, Mr. William Henry    male  35.0      0   \n",
       "\n",
       "   Parch            Ticket     Fare Cabin Embarked  \n",
       "0      0         A/5 21171   7.2500   NaN        S  \n",
       "1      0          PC 17599  71.2833   C85        C  \n",
       "2      0  STON/O2. 3101282   7.9250   NaN        S  \n",
       "3      0            113803  53.1000  C123        S  \n",
       "4      0            373450   8.0500   NaN        S  "
      ]
     },
     "execution_count": 4,
     "metadata": {},
     "output_type": "execute_result"
    }
   ],
   "source": [
    "train.head()"
   ]
  },
  {
   "cell_type": "markdown",
   "metadata": {},
   "source": [
    "This dataset contains :  \n",
    "- 891 lines, i.e. the passengers\n",
    "- 12 columns which are information about the passengers (id, survive or not, ticket class, name, sex, age, number of siblings, number of parents, ticket id, fare, cabin number, port of embarkation)"
   ]
  },
  {
   "cell_type": "code",
   "execution_count": 5,
   "metadata": {},
   "outputs": [
    {
     "data": {
      "text/plain": [
       "(891, 12)"
      ]
     },
     "execution_count": 5,
     "metadata": {},
     "output_type": "execute_result"
    }
   ],
   "source": [
    "train.shape"
   ]
  },
  {
   "cell_type": "markdown",
   "metadata": {},
   "source": [
    "<p>Each passenger is identified by a unique ID. This ID is a number varying from 1 to 891. One can expect this feature would not be usefull to predict if a person survived or not. We pass the variable ```PassengerId``` as index.</p>"
   ]
  },
  {
   "cell_type": "code",
   "execution_count": 6,
   "metadata": {},
   "outputs": [],
   "source": [
    "train = train.set_index('PassengerId')\n",
    "test = test.set_index('PassengerId')"
   ]
  },
  {
   "cell_type": "markdown",
   "metadata": {},
   "source": [
    "<div align='justify'><p>The aim of the project is to predict the variable ```Survived``` with the given information about passengers. Before building models, it is essential to explore the dataset to perform cleaning if needed and feature extraction to enrich the content. We will combine the training set and the test set to get more information.</p></div>"
   ]
  },
  {
   "cell_type": "code",
   "execution_count": 7,
   "metadata": {},
   "outputs": [],
   "source": [
    "combined = pd.concat([train[train.columns[train.columns != \"Survived\"]], test])"
   ]
  },
  {
   "cell_type": "markdown",
   "metadata": {},
   "source": [
    "   <ul><ol><b><h2>II. Exploratory analysis and data preparation</h3></b></ol><ul>"
   ]
  },
  {
   "cell_type": "markdown",
   "metadata": {},
   "source": [
    "Variable information can be found at https://www.kaggle.com/c/titanic/data :  \n",
    "<table>\n",
    "    <thead>\n",
    "        <tr>\n",
    "            <th>Variable</th>\n",
    "            <th align=\"center\">Definition</th>\n",
    "            <th align=\"right\">Key</th>\n",
    "        </tr>\n",
    "    </thead>\n",
    "    <tbody>\n",
    "        <tr>\n",
    "            <td>Survived</td>\n",
    "            <td align=\"center\">Survival (the target)</td>\n",
    "            <td align=\"right\">0 = No, 1 = Yes</td>\n",
    "        </tr>\n",
    "        <tr>\n",
    "            <td>Pclass</td>\n",
    "            <td align=\"center\">Ticket class</td>\n",
    "            <td align=\"right\">1 = 1st, 2 = 2nd, 3 = 3rd</td>\n",
    "        </tr>\n",
    "        <tr>\n",
    "            <td>Name</td>\n",
    "            <td align=\"center\">Name of the passenger</td>\n",
    "            <td align=\"right\">A string</td>\n",
    "        </tr>\n",
    "        <tr>\n",
    "            <td>Sex</td>\n",
    "            <td align=\"center\">Sex</td>\n",
    "            <td align=\"right\">Male or female</td>\n",
    "        </tr>\n",
    "        <tr>\n",
    "            <td>Age</td>\n",
    "            <td align=\"center\">Age in years</td>\n",
    "            <td align=\"right\">A float</td>\n",
    "        </tr>\n",
    "        <tr>\n",
    "            <td>SibSp</td>\n",
    "            <td align=\"center\">Number of siblings</td>\n",
    "            <td align=\"right\">An int</td>\n",
    "        </tr>\n",
    "        <tr>\n",
    "            <td>Parch</td>\n",
    "            <td align=\"center\">Number of parents</td>\n",
    "            <td align=\"right\">An int</td>\n",
    "        </tr>\n",
    "        <tr>\n",
    "            <td>Ticket</td>\n",
    "            <td align=\"center\">Ticket number</td>\n",
    "            <td align=\"right\">A string</td>\n",
    "        </tr>\n",
    "        <tr>\n",
    "            <td>Fare</td>\n",
    "            <td align=\"center\">Ticket fare</td>\n",
    "            <td align=\"right\">A float</td>\n",
    "        </tr>\n",
    "        <tr>\n",
    "            <td>Cabin</td>\n",
    "            <td align=\"center\">Cabin number</td>\n",
    "            <td align=\"right\">A string</td>\n",
    "        </tr>\n",
    "        <tr>\n",
    "            <td>Embarked</td>\n",
    "            <td align=\"center\">Port of embarkation</td>\n",
    "            <td align=\"right\">C = Cherbourg, Q = Queenstown, S = Southampton</td>\n",
    "        </tr>\n",
    "    </tbody>\n",
    "</table>\n",
    "\n",
    "In this part, we will explore the qualitative and quantitative data graphically in order to determine possible missing values, extreme values and define the best strategies in terms of feature engineering for each variable."
   ]
  },
  {
   "cell_type": "markdown",
   "metadata": {},
   "source": [
    "   <ul><ol><b><font size=3pt>1. The target variable : the survival of the passengers</font></b></ol><ul>"
   ]
  },
  {
   "cell_type": "markdown",
   "metadata": {},
   "source": [
    "<div align='justify'>\"Survived\" is the feature of interest, the target. This is a binary response (1: Yes, 0: No). This variables is present in the train set but not in the test set. Let's display the number of people in each category: </div>"
   ]
  },
  {
   "cell_type": "code",
   "execution_count": 8,
   "metadata": {},
   "outputs": [
    {
     "data": {
      "image/png": "[encoded data removed]",
      "text/plain": [
       "<Figure size 432x288 with 1 Axes>"
      ]
     },
     "metadata": {},
     "output_type": "display_data"
    }
   ],
   "source": [
    "fig, ax = plt.subplots()\n",
    "ax.pie(train[\"Survived\"].value_counts(), labels=train[\"Survived\"].unique(), autopct='%1.1f%%',\n",
    "        shadow=True, startangle=90)\n",
    "plt.title(\"Survived\", fontweight=\"bold\")\n",
    "ax.axis('equal');"
   ]
  },
  {
   "cell_type": "markdown",
   "metadata": {},
   "source": [
    "<div align='justify'>There are 60% passengers who didn't survive and 40% who survived. This sample is representative of the reality since out of the 2471 people, between 1490 and 1520 perished, which corresponds to approximately 60% of the ship's passengers. Besides, we can consider the data are <b>balanced</b>, such a repartition (60/40) should not cause any significant performance degradation.</div>"
   ]
  },
  {
   "cell_type": "markdown",
   "metadata": {},
   "source": [
    "   <ul><ol><b><font size=3pt>2. The explanatory variables</font></b></ol><ul>"
   ]
  },
  {
   "cell_type": "markdown",
   "metadata": {},
   "source": [
    "<ul><li><b>Pclass : ticket class of the passenger<b></li></ul>\n",
    "\n",
    "<div align='justify'>There are three categories : 1st, 2nd and 3rd.</div>"
   ]
  },
  {
   "cell_type": "code",
   "execution_count": 9,
   "metadata": {},
   "outputs": [
    {
     "data": {
      "image/png": "[encoded data removed]",
      "text/plain": [
       "<Figure size 432x288 with 1 Axes>"
      ]
     },
     "metadata": {},
     "output_type": "display_data"
    }
   ],
   "source": [
    "fig, ax = plt.subplots()\n",
    "ax.pie(train[\"Pclass\"].value_counts(), labels=train[\"Pclass\"].unique(), autopct='%1.1f%%',\n",
    "        shadow=True, startangle=90)\n",
    "plt.title(\"Number of passengers by class\", fontweight=\"bold\")\n",
    "ax.axis('equal');"
   ]
  },
  {
   "cell_type": "markdown",
   "metadata": {},
   "source": [
    "The distribution observed on the training set reflects the true distribution of the Titanic's passengers. Indeed, if we do some research, we find that of the 1316 passengers, 325 (24%) were in first class, 285 (21%) in second class and 706 (53%) in last class. \n",
    "\n",
    "Short description of the individuals in each class :\n",
    "<ul>\n",
    "    <li> <b>First class</b>: these are the more fortunate passengers such as businessmen, artists, high-ranking military officers, politicians. They have a lot of luggage and servants. </li>\n",
    "    <li> <b>Second class</b>: this is a more heterogeneous class that includes entrepreneurs, teachers, clergymen and sometimes wealthy immigrants. </li>\n",
    "    <li> <b>Third class</b>: it corresponds to the immigration class. People are often with their families, sometimes in groups of about ten people. </li>\n",
    "    </ul>"
   ]
  },
  {
   "cell_type": "code",
   "execution_count": 10,
   "metadata": {},
   "outputs": [
    {
     "data": {
      "text/plain": [
       "0"
      ]
     },
     "execution_count": 10,
     "metadata": {},
     "output_type": "execute_result"
    }
   ],
   "source": [
    "# MISSING VALUES\n",
    "train[\"Pclass\"].isna().sum()"
   ]
  },
  {
   "cell_type": "markdown",
   "metadata": {},
   "source": [
    "<p>There are no missing values in this variable. </p>"
   ]
  },
  {
   "cell_type": "code",
   "execution_count": 11,
   "metadata": {},
   "outputs": [
    {
     "data": {
      "image/png": "[encoded data removed]",
      "text/plain": [
       "<Figure size 432x288 with 1 Axes>"
      ]
     },
     "metadata": {},
     "output_type": "display_data"
    }
   ],
   "source": [
    "sns.countplot(x=\"Pclass\", hue=\"Survived\", data=train)\n",
    "plt.title(\"Passenger class and survival\", fontweight=\"bold\", fontsize=12)\n",
    "plt.ylabel(\"Number of people\")\n",
    "plt.xlabel(\"Class of the passenger\");"
   ]
  },
  {
   "cell_type": "markdown",
   "metadata": {},
   "source": [
    "As can be seen, people in the third class are the least likely to survive. This variable appears to be important in predicting passenger survival."
   ]
  },
  {
   "cell_type": "markdown",
   "metadata": {},
   "source": [
    "<ul><li><b>Name : name of the passenger<b></li></ul>\n",
    "<div align='justify'>This variable is the entire name of the passenger in the following form: Last name, Title. First names. <br>\n",
    "One useful piece of information can be extracted from this variable, the person's title. A person's title may be related to his or her class in the boat and thus explain his or her survival or not. For example, one can imagine that people with a title of nobility were better off and therefore rather first class. Therefore, they have a better chance of survival. <br>\n",
    "    <br>\n",
    "    We're going to do some feature engineering.</div>"
   ]
  },
  {
   "cell_type": "code",
   "execution_count": 12,
   "metadata": {},
   "outputs": [],
   "source": [
    "titles = set()\n",
    "for name in combined['Name']:\n",
    "    titles.add(name.split(',')[1].split('.')[0].strip())"
   ]
  },
  {
   "cell_type": "code",
   "execution_count": 13,
   "metadata": {},
   "outputs": [
    {
     "data": {
      "text/plain": [
       "{'Capt',\n",
       " 'Col',\n",
       " 'Don',\n",
       " 'Dona',\n",
       " 'Dr',\n",
       " 'Jonkheer',\n",
       " 'Lady',\n",
       " 'Major',\n",
       " 'Master',\n",
       " 'Miss',\n",
       " 'Mlle',\n",
       " 'Mme',\n",
       " 'Mr',\n",
       " 'Mrs',\n",
       " 'Ms',\n",
       " 'Rev',\n",
       " 'Sir',\n",
       " 'the Countess'}"
      ]
     },
     "execution_count": 13,
     "metadata": {},
     "output_type": "execute_result"
    }
   ],
   "source": [
    "titles"
   ]
  },
  {
   "cell_type": "markdown",
   "metadata": {},
   "source": [
    "<p align='justify'>There are 17 different titles, which is a lot. It makes more sense to group a few of them in the same title class. For example, colonel and lieutenant are two military ranks that can be grouped together.\n",
    "It is then possible to create a title dictionary with the associated groupings.</p>"
   ]
  },
  {
   "cell_type": "code",
   "execution_count": 14,
   "metadata": {},
   "outputs": [],
   "source": [
    "Title_Dictionary = {\n",
    "    \"Capt\": \"Military\",\n",
    "    \"Col\": \"Military\",\n",
    "    \"Major\": \"Military\",\n",
    "    \"Jonkheer\": \"Nobility\",\n",
    "    \"Don\": \"Nobility\",\n",
    "    \"Dona\": \"Nobility\",\n",
    "    \"Sir\" : \"Nobility\",\n",
    "    \"Dr\": \"Military\",\n",
    "    \"Rev\": \"Military\",\n",
    "    \"the Countess\":\"Nobility\",\n",
    "    \"Mme\": \"Miss/Mrs\",\n",
    "    \"Mlle\": \"Miss/Mrs\",\n",
    "    \"Ms\": \"Miss/Mrs\",\n",
    "    \"Mr\" : \"Mr\",\n",
    "    \"Mrs\" : \"Miss/Mrs\",\n",
    "    \"Miss\" : \"Miss/Mrs\",\n",
    "    \"Master\" : \"Master\",\n",
    "    \"Lady\" : \"Nobility\"\n",
    "}"
   ]
  },
  {
   "cell_type": "code",
   "execution_count": 15,
   "metadata": {},
   "outputs": [],
   "source": [
    "train['Title'] = train['Name'].map(\n",
    "    lambda x: x.split(',')[1].split('.')[0].strip())\n",
    "train['Title'] = train.Title.map(Title_Dictionary)\n",
    "test['Title'] = test['Name'].map(\n",
    "    lambda x: x.split(',')[1].split('.')[0].strip())\n",
    "test['Title'] = test.Title.map(Title_Dictionary)\n",
    "combined['Title'] = combined['Name'].map(\n",
    "    lambda x: x.split(',')[1].split('.')[0].strip())\n",
    "combined['Title'] = combined.Title.map(Title_Dictionary)"
   ]
  },
  {
   "cell_type": "code",
   "execution_count": 16,
   "metadata": {},
   "outputs": [
    {
     "data": {
      "text/plain": [
       "Mr          517\n",
       "Miss/Mrs    311\n",
       "Master       40\n",
       "Military     18\n",
       "Nobility      5\n",
       "Name: Title, dtype: int64"
      ]
     },
     "execution_count": 16,
     "metadata": {},
     "output_type": "execute_result"
    }
   ],
   "source": [
    "train['Title'].value_counts()"
   ]
  },
  {
   "cell_type": "code",
   "execution_count": 17,
   "metadata": {},
   "outputs": [],
   "source": [
    "train = train.drop(['Name'], axis=1)\n",
    "test  = test.drop(['Name'], axis=1)"
   ]
  },
  {
   "cell_type": "code",
   "execution_count": 18,
   "metadata": {},
   "outputs": [
    {
     "data": {
      "image/png": "[encoded data removed]",
      "text/plain": [
       "<Figure size 432x288 with 1 Axes>"
      ]
     },
     "metadata": {},
     "output_type": "display_data"
    }
   ],
   "source": [
    "sns.countplot(x=\"Title\", hue=\"Survived\", data=train)\n",
    "plt.title(\"Passenger title and survival\", fontweight=\"bold\", fontsize=12)\n",
    "plt.ylabel(\"Number of people\")\n",
    "plt.xlabel(\"Title of the passenger\");"
   ]
  },
  {
   "cell_type": "markdown",
   "metadata": {},
   "source": [
    "<div align='justify'>There is a link between a person's title and their survival. Men with the title \"Mr.\" have the least chance of survival. It is also noticeable that people with \"Military\" status have generally not survived. On the other hand, women with the title \"Miss\" or \"Mrs\" and people with the title of nobility are more likely to survive.</div> "
   ]
  },
  {
   "cell_type": "markdown",
   "metadata": {},
   "source": [
    "<ul><li><b>Sex : gender of the passenger<b></li></ul>\n",
    "\n",
    "<div align='justify'>The sex of the passenger. No transformation are needed.</div>"
   ]
  },
  {
   "cell_type": "code",
   "execution_count": 19,
   "metadata": {},
   "outputs": [
    {
     "data": {
      "image/png": "[encoded data removed]",
      "text/plain": [
       "<Figure size 432x288 with 1 Axes>"
      ]
     },
     "metadata": {},
     "output_type": "display_data"
    }
   ],
   "source": [
    "fig, ax = plt.subplots()\n",
    "ax.pie(train[\"Sex\"].value_counts(), labels=train[\"Sex\"].unique(), autopct='%1.1f%%',\n",
    "        shadow=True, startangle=90)\n",
    "plt.title(\"Number of passengers by sex\", fontweight=\"bold\")\n",
    "ax.axis('equal');"
   ]
  },
  {
   "cell_type": "code",
   "execution_count": 20,
   "metadata": {},
   "outputs": [
    {
     "data": {
      "image/png": "[encoded data removed]",
      "text/plain": [
       "<Figure size 432x288 with 1 Axes>"
      ]
     },
     "metadata": {},
     "output_type": "display_data"
    }
   ],
   "source": [
    "sns.countplot(x=\"Sex\", hue=\"Survived\", data=train)\n",
    "plt.title(\"Passenger sex and survival\", fontweight=\"bold\", fontsize=12)\n",
    "plt.ylabel(\"Number of people\")\n",
    "plt.xlabel(\"Sex of the passenger\");"
   ]
  },
  {
   "cell_type": "markdown",
   "metadata": {},
   "source": [
    "<div align='justify'>In the literature, one can read that among the 1,500 victims, the main difference was between men and women. Only 25% of the women died in the shipwreck compared to 82% of the male passengers. 70% of the women and children survived the shipwreck compared to just over 20 per cent of the men, as the \"women and children first\" rule prevailed, unlike the majority of maritime disasters. <br>The graph above corroborates these facts by showing that about 80% of the victims of the shipwreck are men and about 70% of the survivors are women.<br>This variable is therefore important in predicting an individual's survival. </div>"
   ]
  },
  {
   "cell_type": "markdown",
   "metadata": {},
   "source": [
    "<ul><li><b>Embarked : the port of embarkation<b></li></ul>\n",
    "\n",
    "<div align='justify'>There are some missing values to deal with in this variable.</div>"
   ]
  },
  {
   "cell_type": "code",
   "execution_count": 21,
   "metadata": {},
   "outputs": [
    {
     "name": "stdout",
     "output_type": "stream",
     "text": [
      "Number of missing values : 2\n"
     ]
    }
   ],
   "source": [
    "print(\"Number of missing values : {}\".format(combined[\"Embarked\"].isna().sum()))"
   ]
  },
  {
   "cell_type": "code",
   "execution_count": 22,
   "metadata": {},
   "outputs": [
    {
     "data": {
      "text/html": [
       "<div>\n",
       "<style scoped>\n",
       "    .dataframe tbody tr th:only-of-type {\n",
       "        vertical-align: middle;\n",
       "    }\n",
       "\n",
       "    .dataframe tbody tr th {\n",
       "        vertical-align: top;\n",
       "    }\n",
       "\n",
       "    .dataframe thead th {\n",
       "        text-align: right;\n",
       "    }\n",
       "</style>\n",
       "<table border=\"1\" class=\"dataframe\">\n",
       "  <thead>\n",
       "    <tr style=\"text-align: right;\">\n",
       "      <th></th>\n",
       "      <th>Pclass</th>\n",
       "      <th>Name</th>\n",
       "      <th>Sex</th>\n",
       "      <th>Age</th>\n",
       "      <th>SibSp</th>\n",
       "      <th>Parch</th>\n",
       "      <th>Ticket</th>\n",
       "      <th>Fare</th>\n",
       "      <th>Cabin</th>\n",
       "      <th>Embarked</th>\n",
       "      <th>Title</th>\n",
       "    </tr>\n",
       "    <tr>\n",
       "      <th>PassengerId</th>\n",
       "      <th></th>\n",
       "      <th></th>\n",
       "      <th></th>\n",
       "      <th></th>\n",
       "      <th></th>\n",
       "      <th></th>\n",
       "      <th></th>\n",
       "      <th></th>\n",
       "      <th></th>\n",
       "      <th></th>\n",
       "      <th></th>\n",
       "    </tr>\n",
       "  </thead>\n",
       "  <tbody>\n",
       "    <tr>\n",
       "      <th>62</th>\n",
       "      <td>1</td>\n",
       "      <td>Icard, Miss. Amelie</td>\n",
       "      <td>female</td>\n",
       "      <td>38.0</td>\n",
       "      <td>0</td>\n",
       "      <td>0</td>\n",
       "      <td>113572</td>\n",
       "      <td>80.0</td>\n",
       "      <td>B28</td>\n",
       "      <td>NaN</td>\n",
       "      <td>Miss/Mrs</td>\n",
       "    </tr>\n",
       "    <tr>\n",
       "      <th>830</th>\n",
       "      <td>1</td>\n",
       "      <td>Stone, Mrs. George Nelson (Martha Evelyn)</td>\n",
       "      <td>female</td>\n",
       "      <td>62.0</td>\n",
       "      <td>0</td>\n",
       "      <td>0</td>\n",
       "      <td>113572</td>\n",
       "      <td>80.0</td>\n",
       "      <td>B28</td>\n",
       "      <td>NaN</td>\n",
       "      <td>Miss/Mrs</td>\n",
       "    </tr>\n",
       "  </tbody>\n",
       "</table>\n",
       "</div>"
      ],
      "text/plain": [
       "             Pclass                                       Name     Sex   Age  \\\n",
       "PassengerId                                                                    \n",
       "62                1                        Icard, Miss. Amelie  female  38.0   \n",
       "830               1  Stone, Mrs. George Nelson (Martha Evelyn)  female  62.0   \n",
       "\n",
       "             SibSp  Parch  Ticket  Fare Cabin Embarked     Title  \n",
       "PassengerId                                                       \n",
       "62               0      0  113572  80.0   B28      NaN  Miss/Mrs  \n",
       "830              0      0  113572  80.0   B28      NaN  Miss/Mrs  "
      ]
     },
     "execution_count": 22,
     "metadata": {},
     "output_type": "execute_result"
    }
   ],
   "source": [
    "combined.iloc[np.where(combined[\"Embarked\"].isna())]"
   ]
  },
  {
   "cell_type": "markdown",
   "metadata": {},
   "source": [
    "The port of embarkation is missing for these two women of the train set. There were both in first class, single and paid the same fare for their ticket (80$). They may have embarked at the same port."
   ]
  },
  {
   "cell_type": "code",
   "execution_count": 23,
   "metadata": {},
   "outputs": [
    {
     "data": {
      "text/plain": [
       "Embarked  Pclass\n",
       "C         1         76.7292\n",
       "          2         15.3146\n",
       "          3          7.8958\n",
       "Q         1         90.0000\n",
       "          2         12.3500\n",
       "          3          7.7500\n",
       "S         1         52.0000\n",
       "          2         15.3750\n",
       "          3          8.0500\n",
       "Name: Fare, dtype: float64"
      ]
     },
     "execution_count": 23,
     "metadata": {},
     "output_type": "execute_result"
    }
   ],
   "source": [
    "combined.groupby([\"Embarked\", \"Pclass\"]).median()[\"Fare\"]"
   ]
  },
  {
   "cell_type": "code",
   "execution_count": 24,
   "metadata": {},
   "outputs": [
    {
     "data": {
      "image/png": "[encoded data removed]",
      "text/plain": [
       "<Figure size 288x360 with 1 Axes>"
      ]
     },
     "metadata": {},
     "output_type": "display_data"
    }
   ],
   "source": [
    "plt.figure(figsize=(4, 5))\n",
    "sns.boxplot(x=\"Embarked\", y=\"Fare\", hue=\"Pclass\", data=combined);\n",
    "plt.title(\"Relationship between the fare\\nand the port of embarkation\", fontweight=\"bold\", fontsize=12);"
   ]
  },
  {
   "cell_type": "markdown",
   "metadata": {},
   "source": [
    "When we look at the graph above, we can see that the median fare closest to that of $80 is that for the port of Cherbourg in first class. We will therefore impute the missing values by the letter \"C\". "
   ]
  },
  {
   "cell_type": "code",
   "execution_count": 25,
   "metadata": {},
   "outputs": [],
   "source": [
    "train[\"Embarked\"] = train[\"Embarked\"].fillna(\"C\")"
   ]
  },
  {
   "cell_type": "code",
   "execution_count": 26,
   "metadata": {},
   "outputs": [
    {
     "data": {
      "image/png": "[encoded data removed]",
      "text/plain": [
       "<Figure size 432x288 with 1 Axes>"
      ]
     },
     "metadata": {},
     "output_type": "display_data"
    }
   ],
   "source": [
    "fig, ax = plt.subplots()\n",
    "ax.pie(train[\"Embarked\"].value_counts(), labels=train[\"Embarked\"].unique(), autopct='%1.1f%%',\n",
    "        shadow=True, startangle=90)\n",
    "plt.title(\"Embarked\", fontweight=\"bold\")\n",
    "ax.axis('equal');"
   ]
  },
  {
   "cell_type": "markdown",
   "metadata": {},
   "source": [
    "<ul><li><b>Age : age of the passenger<b></li></ul>\n",
    "\n",
    "<div align='justify'>This variable is numerical. Let's explore this age on the combined dataset. In the descriptive statistics table, one can see that the average age on board was 29.88 years old and it ranged from 0.17 (baby) to 80 years old. Furthermore, 1046 values are non-null, so this variable contains missing values.</div>"
   ]
  },
  {
   "cell_type": "code",
   "execution_count": 27,
   "metadata": {},
   "outputs": [
    {
     "data": {
      "text/plain": [
       "count    1046.000000\n",
       "mean       29.881138\n",
       "std        14.413493\n",
       "min         0.170000\n",
       "25%        21.000000\n",
       "50%        28.000000\n",
       "75%        39.000000\n",
       "max        80.000000\n",
       "Name: Age, dtype: float64"
      ]
     },
     "execution_count": 27,
     "metadata": {},
     "output_type": "execute_result"
    }
   ],
   "source": [
    "combined[\"Age\"].describe()"
   ]
  },
  {
   "cell_type": "code",
   "execution_count": 28,
   "metadata": {},
   "outputs": [
    {
     "name": "stdout",
     "output_type": "stream",
     "text": [
      "Number of missing values : 0.20091673032849502\n"
     ]
    }
   ],
   "source": [
    "print(\"Number of missing values : {}\".format(combined[\"Age\"].isna().sum()/len(combined[\"Age\"])))"
   ]
  },
  {
   "cell_type": "markdown",
   "metadata": {},
   "source": [
    "<div align='justify'>Indeed, 20% of the age are missing. A simple way to replace missing values is to use the mean or median of the sample. However, here the age should certainly depend on other elements of the dataset like sex, class, etc. One solution is to determine the variables the age is correlated with and to calculate the mean per group to use these values for imputation. The age can be expected to depend on the person's gender, class, title and the price of the ticket (youth fares may be cheaper than adult fares). This time we will examine the variable on the training and test data set. </div>"
   ]
  },
  {
   "cell_type": "code",
   "execution_count": 29,
   "metadata": {},
   "outputs": [
    {
     "data": {
      "image/png": "[encoded data removed]",
      "text/plain": [
       "<Figure size 1296x360 with 4 Axes>"
      ]
     },
     "metadata": {},
     "output_type": "display_data"
    }
   ],
   "source": [
    "fig, (ax1, ax2, ax3, ax4) = plt.subplots(1, 4, figsize=(18, 5))\n",
    "sns.boxplot(x=\"SibSp\", y=\"Age\", data=combined, ax=ax1)\n",
    "ax1.set_title(\"Relationship between the age and\\n the number of siblings\", fontweight=\"bold\", fontsize=12)\n",
    "sns.boxplot(x=\"Parch\", y=\"Age\", data=combined, ax=ax2)\n",
    "ax2.set_title(\"Relationship between the age and \\nthe number of parents/children\", fontweight=\"bold\", fontsize=12)\n",
    "sns.boxplot(x=\"Pclass\", y=\"Age\", data=combined, ax=ax3)\n",
    "ax3.set_title(\"Relationship between \\nthe age and the class\", fontweight=\"bold\", fontsize=12)\n",
    "sns.boxplot(x=\"Title\", y=\"Age\", data=combined, ax=ax4)\n",
    "ax4.set_title(\"Relationship between \\nthe age and the title\", fontweight=\"bold\", fontsize=12);"
   ]
  },
  {
   "cell_type": "markdown",
   "metadata": {},
   "source": [
    "On the graphs above, we can observe many things:\n",
    "<ul>\n",
    "    <li>The number of siblings gives information on age. We can see that people with 4, 5 and 6 siblings will tend to be under 20 years old. People with 2 or 3 siblings are more likely to be children, teenagers or young adults, while single people or people with 1 sibling are mostly between 20 and 40 years old.\n",
    "    <li>The number of parents/children also gives information on age. Unattached individuals are generally of all ages but the majority are between 20 and 40 years old. People with 1 or 2 parents/children are between 10 and 40 years old. People with 3 or more parents/children are over 20/25 or even over 40.\n",
    "    <li>The age depends on the class. People in the first class are generally older than people in the second and third class. </li>\n",
    "    <li>The age also depends on the title. We can see that the majority of people with noble and military titles are over 40 years old. People with the title \"Master\" seem to be children. People with the title \"Mr\" and \"Mrs\" are between 20 and 40 years old. </li>\n",
    "    </ul>\n",
    "Sex and ticket price are not related to age. Therefore, the graphs are not shown. "
   ]
  },
  {
   "cell_type": "code",
   "execution_count": 30,
   "metadata": {},
   "outputs": [],
   "source": [
    "# Building the imputation on the combined set\n",
    "tab_missing_values = combined.groupby(['Pclass', 'Title', 'Parch', 'SibSp']).median()['Age'].reset_index()\n",
    "\n",
    "def value_tab(x):\n",
    "    condition = (tab_missing_values['Pclass'] == x['Pclass']) &  (tab_missing_values['Title'] == x['Title']) & (tab_missing_values['Parch'] == x['Parch']) & (tab_missing_values['SibSp'] == x['SibSp']) \n",
    "    return tab_missing_values[condition]['Age'].values[0]\n",
    "\n",
    "def fill_na(x):\n",
    "    if not np.isnan(value_tab(x)):\n",
    "        return value_tab(x)\n",
    "    else:\n",
    "        return combined[\"Age\"].median()\n",
    "                \n",
    "# Imputation of the train and test set\n",
    "train['Age'] = train.apply(lambda x: fill_na(x) if np.isnan(x['Age']) else x['Age'], axis=1)\n",
    "test['Age'] = test.apply(lambda x: fill_na(x) if np.isnan(x['Age']) else x['Age'], axis=1)"
   ]
  },
  {
   "cell_type": "code",
   "execution_count": 31,
   "metadata": {},
   "outputs": [
    {
     "name": "stdout",
     "output_type": "stream",
     "text": [
      "Number of missing values : 0\n"
     ]
    }
   ],
   "source": [
    "print(\"Number of missing values : {}\".format(train[\"Age\"].isna().sum()))"
   ]
  },
  {
   "cell_type": "markdown",
   "metadata": {},
   "source": [
    "<div align='justify'>We imputed all the missing values. Now let's look at the distribution of the variable Age according the survival in the train set. </div>"
   ]
  },
  {
   "cell_type": "code",
   "execution_count": 32,
   "metadata": {},
   "outputs": [
    {
     "data": {
      "image/png": "[encoded data removed]",
      "text/plain": [
       "<Figure size 432x288 with 1 Axes>"
      ]
     },
     "metadata": {},
     "output_type": "display_data"
    }
   ],
   "source": [
    "plt.figure(figsize=(6, 4))\n",
    "sns.kdeplot(data=train[train[\"Survived\"]==1][\"Age\"], color='red')\n",
    "sns.kdeplot(data=train[train[\"Survived\"]==0][\"Age\"], color='blue')\n",
    "plt.legend(labels=['Survived', 'Not survived'])\n",
    "plt.title(\"Distribution of age according survival\\n in the train set\", fontweight='bold', fontsize=12);"
   ]
  },
  {
   "cell_type": "markdown",
   "metadata": {},
   "source": [
    "We can create age groups from this column. "
   ]
  },
  {
   "cell_type": "code",
   "execution_count": 33,
   "metadata": {},
   "outputs": [],
   "source": [
    "def categorize_age(x):\n",
    "    cat_age = \"\"\n",
    "    if x <= 1:\n",
    "        cat_age = \"newborn\"\n",
    "    elif x <= 5:\n",
    "        cat_age = \"toddler\"\n",
    "    elif x <= 11:\n",
    "        cat_age = \"child\"\n",
    "    elif x <= 18:\n",
    "        cat_age = \"teenager\"\n",
    "    elif x <= 30:\n",
    "        cat_age = \"young adult\"\n",
    "    elif x <= 45:\n",
    "        cat_age = \"adult\"\n",
    "    elif x <= 55:\n",
    "        cat_age = \"middle aged\"\n",
    "    elif x <= 65:\n",
    "        cat_age = \"senior\"\n",
    "    else:\n",
    "        cat_age = \"old\"\n",
    "    return cat_age"
   ]
  },
  {
   "cell_type": "code",
   "execution_count": 34,
   "metadata": {},
   "outputs": [],
   "source": [
    "# Creating age categories in a new column AgeCategory\n",
    "train[\"AgeCategory\"] = train[\"Age\"].apply(lambda x: categorize_age(x))\n",
    "test[\"AgeCategory\"] = test[\"Age\"].apply(lambda x: categorize_age(x))"
   ]
  },
  {
   "cell_type": "markdown",
   "metadata": {},
   "source": [
    "<ul><li><b>SibSp : number of siblings/spouses<b></li></ul>\n"
   ]
  },
  {
   "cell_type": "markdown",
   "metadata": {},
   "source": [
    "The number of siblings/spouses is a discrete variable."
   ]
  },
  {
   "cell_type": "code",
   "execution_count": 35,
   "metadata": {},
   "outputs": [
    {
     "data": {
      "image/png": "[encoded data removed]",
      "text/plain": [
       "<Figure size 432x288 with 1 Axes>"
      ]
     },
     "metadata": {},
     "output_type": "display_data"
    }
   ],
   "source": [
    "sns.countplot(x=\"Parch\", hue=\"Survived\", data=train)\n",
    "plt.title(\"Number of parents/children and survival\", fontweight=\"bold\", fontsize=12)\n",
    "plt.ylabel(\"Number of people\")\n",
    "plt.xlabel(\"Number of the parents/children\");"
   ]
  },
  {
   "cell_type": "markdown",
   "metadata": {},
   "source": [
    "<div align='justify'> As can be seen, the majority of those on board were alone, without family members. It would also appear that the rate of alone individuals among victims is equivalent to the rate of alone individuals among survivors. This variable carries information that is sufficient to know whether a person is alone or in a family.</div> "
   ]
  },
  {
   "cell_type": "markdown",
   "metadata": {},
   "source": [
    "<ul><li><b>SibSp : number of parents/children<b></li></ul>"
   ]
  },
  {
   "cell_type": "code",
   "execution_count": 36,
   "metadata": {},
   "outputs": [
    {
     "data": {
      "image/png": "[encoded data removed]",
      "text/plain": [
       "<Figure size 432x288 with 1 Axes>"
      ]
     },
     "metadata": {},
     "output_type": "display_data"
    }
   ],
   "source": [
    "sns.countplot(x=\"SibSp\", hue=\"Survived\", data=train)\n",
    "plt.title(\"Number of siblings and survival\", fontweight=\"bold\", fontsize=12)\n",
    "plt.ylabel(\"Number of people\")\n",
    "plt.xlabel(\"Number of the siblings\");"
   ]
  },
  {
   "cell_type": "markdown",
   "metadata": {},
   "source": [
    "Similarly, most people had no parents or children on board. Identically, it would also appear that the rate of alone individuals among victims is equivalent to the rate of alone individuals among survivors. This variable carries information that is sufficient to know whether a person is alone or in a family. \n",
    "<br>\n",
    "<br>\n",
    "But, with this variable and the previous one, the number of parents/children, a new information could be created : the family size."
   ]
  },
  {
   "cell_type": "code",
   "execution_count": 37,
   "metadata": {},
   "outputs": [],
   "source": [
    "train[\"FamilySize\"] = train[\"SibSp\"] + train[\"Parch\"] + 1 # We add one for the current person included in the family\n",
    "test[\"FamilySize\"] = test[\"SibSp\"] + test[\"Parch\"] + 1"
   ]
  },
  {
   "cell_type": "code",
   "execution_count": 38,
   "metadata": {},
   "outputs": [
    {
     "data": {
      "image/png": "[encoded data removed]",
      "text/plain": [
       "<Figure size 432x288 with 1 Axes>"
      ]
     },
     "metadata": {},
     "output_type": "display_data"
    }
   ],
   "source": [
    "sns.countplot(x=\"FamilySize\", hue=\"Survived\", data=train)\n",
    "plt.title(\"Size of the family and survival\", fontweight=\"bold\", fontsize=12)\n",
    "plt.ylabel(\"Number of people\")\n",
    "plt.xlabel(\"Size of the family\");"
   ]
  },
  {
   "cell_type": "markdown",
   "metadata": {},
   "source": [
    "We can create a variable related to the size of the family by splitting the \"FamilySize\" variable."
   ]
  },
  {
   "cell_type": "code",
   "execution_count": 39,
   "metadata": {},
   "outputs": [],
   "source": [
    "def family_size(x):\n",
    "    if x == 1:\n",
    "        x = 'Single'\n",
    "    elif x == 2:\n",
    "        x = 'SmallFamily'\n",
    "    elif 3 <= x <= 4:\n",
    "        x = 'MedFamily'\n",
    "    elif x >= 5:\n",
    "        x = \"LargeFamily\"\n",
    "    return x"
   ]
  },
  {
   "cell_type": "code",
   "execution_count": 40,
   "metadata": {},
   "outputs": [],
   "source": [
    "# Discretize the family size feature in the train and test set\n",
    "train['FamilyCat'] = train['FamilySize'].apply(lambda x: family_size(x))\n",
    "test['FamilyCat'] = test['FamilySize'].apply(lambda x: family_size(x))"
   ]
  },
  {
   "cell_type": "markdown",
   "metadata": {},
   "source": [
    "We will also create an \"Alone\" variable that will contain information about whether the passenger is alone or not. "
   ]
  },
  {
   "cell_type": "code",
   "execution_count": 41,
   "metadata": {},
   "outputs": [],
   "source": [
    "train[\"Alone\"] = train[\"FamilySize\"].apply(lambda x: 1 if x == 1 else 0)\n",
    "test[\"Alone\"] = test[\"FamilySize\"].apply(lambda x: 1 if x == 1 else 0)"
   ]
  },
  {
   "cell_type": "markdown",
   "metadata": {},
   "source": [
    "<ul><li><b>Ticket : the ticket number<b></li></ul>\n",
    "\n",
    "<div align='justify'>This variable is a string corresponding to the number of the ticket.</div>"
   ]
  },
  {
   "cell_type": "code",
   "execution_count": 42,
   "metadata": {},
   "outputs": [
    {
     "data": {
      "text/plain": [
       "347082      7\n",
       "CA. 2343    7\n",
       "1601        7\n",
       "CA 2144     6\n",
       "347088      6\n",
       "           ..\n",
       "3101264     1\n",
       "8471        1\n",
       "SC 1748     1\n",
       "4138        1\n",
       "349224      1\n",
       "Name: Ticket, Length: 681, dtype: int64"
      ]
     },
     "execution_count": 42,
     "metadata": {},
     "output_type": "execute_result"
    }
   ],
   "source": [
    "train['Ticket'].value_counts()"
   ]
  },
  {
   "cell_type": "markdown",
   "metadata": {},
   "source": [
    "<div align='justify'>That way the ticket numbers are too specific. We're going to make them a little more general by extracting certain elements from them. \n",
    "We can see that the ticket numbers have different structures. Some are composed of two parts: a prefix with letters and a part with numbers. Others are composed of numbers only. </div>"
   ]
  },
  {
   "cell_type": "code",
   "execution_count": 43,
   "metadata": {},
   "outputs": [],
   "source": [
    "train['Ticket'] = train['Ticket'].apply(lambda x: x.replace(\"/\", \"\").replace(\".\", \"\").split(\" \")[0] if not x.isdigit() else str(len(x))+\"DIGITS\")\n",
    "test['Ticket'] = test['Ticket'].apply(lambda x: x.replace(\"/\", \"\").replace(\".\", \"\").split(\" \")[0] if not x.isdigit() else str(len(x))+\"DIGITS\")"
   ]
  },
  {
   "cell_type": "markdown",
   "metadata": {},
   "source": [
    "<ul><li><b>Cabin : the cabin number<b></li></ul>"
   ]
  },
  {
   "cell_type": "code",
   "execution_count": 44,
   "metadata": {},
   "outputs": [
    {
     "data": {
      "text/plain": [
       "C23 C25 C27        6\n",
       "G6                 5\n",
       "B57 B59 B63 B66    5\n",
       "F2                 4\n",
       "F33                4\n",
       "                  ..\n",
       "C97                1\n",
       "C30                1\n",
       "B82 B84            1\n",
       "B37                1\n",
       "F E46              1\n",
       "Name: Cabin, Length: 186, dtype: int64"
      ]
     },
     "execution_count": 44,
     "metadata": {},
     "output_type": "execute_result"
    }
   ],
   "source": [
    "combined[\"Cabin\"].value_counts()"
   ]
  },
  {
   "cell_type": "markdown",
   "metadata": {},
   "source": [
    "<div align='justify'>There are 186 different types of cabin among the train and test set. We can simplify this information by using only the cabin letter in the cabin number. Some passengers do not have values for the cabin number: either the information is missing or they really did not have a cabin. We will try to estimate their cabin by looking at the fare of the ticket, which may be a good indicator.</div>"
   ]
  },
  {
   "cell_type": "code",
   "execution_count": 45,
   "metadata": {},
   "outputs": [
    {
     "data": {
      "text/plain": [
       "PassengerId\n",
       "1       NaN\n",
       "2       C85\n",
       "3       NaN\n",
       "4      C123\n",
       "5       NaN\n",
       "       ... \n",
       "887     NaN\n",
       "888     B42\n",
       "889     NaN\n",
       "890    C148\n",
       "891     NaN\n",
       "Name: Cabin, Length: 891, dtype: object"
      ]
     },
     "execution_count": 45,
     "metadata": {},
     "output_type": "execute_result"
    }
   ],
   "source": [
    "train[\"Cabin\"]"
   ]
  },
  {
   "cell_type": "code",
   "execution_count": 46,
   "metadata": {},
   "outputs": [],
   "source": [
    "# Modification of the variable Cabin into the class of the cabin\n",
    "train[\"Deck\"] = np.where(train[\"Cabin\"].isna(), \"NaN\", train[\"Cabin\"].astype(str).str[0])\n",
    "test[\"Deck\"] = np.where(test[\"Cabin\"].isna(), \"NaN\", test[\"Cabin\"].astype(str).str[0])"
   ]
  },
  {
   "cell_type": "code",
   "execution_count": 47,
   "metadata": {},
   "outputs": [
    {
     "data": {
      "text/plain": [
       "NaN    687\n",
       "C       59\n",
       "B       47\n",
       "D       33\n",
       "E       32\n",
       "A       15\n",
       "F       13\n",
       "G        4\n",
       "T        1\n",
       "Name: Deck, dtype: int64"
      ]
     },
     "execution_count": 47,
     "metadata": {},
     "output_type": "execute_result"
    }
   ],
   "source": [
    "train[\"Deck\"].value_counts()"
   ]
  },
  {
   "cell_type": "code",
   "execution_count": 48,
   "metadata": {},
   "outputs": [],
   "source": [
    "# Update of the combined dataset\n",
    "combined = pd.concat([train, test], axis=0, sort=False)"
   ]
  },
  {
   "cell_type": "code",
   "execution_count": 49,
   "metadata": {},
   "outputs": [
    {
     "data": {
      "text/plain": [
       "Deck\n",
       "G       14.205000\n",
       "F       18.079367\n",
       "NaN     19.132707\n",
       "T       35.500000\n",
       "A       41.244314\n",
       "D       53.007339\n",
       "E       54.564634\n",
       "C      107.926598\n",
       "B      122.383078\n",
       "Name: Fare, dtype: float64"
      ]
     },
     "execution_count": 49,
     "metadata": {},
     "output_type": "execute_result"
    }
   ],
   "source": [
    "combined.groupby(\"Deck\").mean()[\"Fare\"].sort_values()"
   ]
  },
  {
   "cell_type": "code",
   "execution_count": 50,
   "metadata": {},
   "outputs": [
    {
     "data": {
      "image/png": "[encoded data removed]",
      "text/plain": [
       "<Figure size 288x288 with 1 Axes>"
      ]
     },
     "metadata": {},
     "output_type": "display_data"
    }
   ],
   "source": [
    "plt.figure(figsize=(4, 4))\n",
    "sns.boxplot(x=\"Deck\", y=\"Fare\", data=combined);\n",
    "plt.title(\"Relationship between the \\nfare and the deck\", fontweight=\"bold\", fontsize=12);"
   ]
  },
  {
   "cell_type": "code",
   "execution_count": 51,
   "metadata": {},
   "outputs": [],
   "source": [
    "def mean_confidence_interval(data, confidence=0.95):\n",
    "    a = 1.0 * np.array(data)\n",
    "    n = len(a)\n",
    "    m, se = np.mean(a), scipy.stats.sem(a)\n",
    "    h = se * scipy.stats.t.ppf((1 + confidence) / 2., n-1)\n",
    "    return m, m-h, m+h"
   ]
  },
  {
   "cell_type": "code",
   "execution_count": 52,
   "metadata": {},
   "outputs": [
    {
     "data": {
      "text/plain": [
       "(122.38307846153846, 93.80991777066544, 150.95623915241148)"
      ]
     },
     "execution_count": 52,
     "metadata": {},
     "output_type": "execute_result"
    }
   ],
   "source": [
    "mean_confidence_interval(combined[combined[\"Deck\"]=='B'][\"Fare\"])"
   ]
  },
  {
   "cell_type": "markdown",
   "metadata": {},
   "source": [
    "We can see that some cabins have specific fares and that some passengers have paid a lot but are counted as having no cabin. In particular, we can see that cabins C and B have higher fares. We can therefore try to estimate the cabin based on the fare. We will create fare intervals manually. "
   ]
  },
  {
   "cell_type": "code",
   "execution_count": 53,
   "metadata": {},
   "outputs": [],
   "source": [
    "def value_cabin(x):\n",
    "    res = \"None\"\n",
    "    a = x[\"Fare\"]\n",
    "    if a <= 16:\n",
    "        res = 'G'\n",
    "    elif a > 16 and a <= 26:\n",
    "        res = 'F'\n",
    "    elif a > 26 and a <= 38:\n",
    "        res = 'T'\n",
    "    elif a > 38 and a <= 50:\n",
    "        res = 'A'\n",
    "    elif a > 50 and a <= 61:\n",
    "        res = 'D'\n",
    "    elif a > 53.5 and a <= 66:\n",
    "        res = 'E'\n",
    "    elif a > 66 and a <= 123:\n",
    "        res = 'C'\n",
    "    elif a > 123:\n",
    "        res = 'B'\n",
    "    return res"
   ]
  },
  {
   "cell_type": "markdown",
   "metadata": {},
   "source": [
    "But before that, as we need the variable \"Fare\", we need to check if this variable contains missing values."
   ]
  },
  {
   "cell_type": "code",
   "execution_count": 54,
   "metadata": {},
   "outputs": [
    {
     "name": "stdout",
     "output_type": "stream",
     "text": [
      "Train set :  0\n",
      "Test set :  1\n"
     ]
    }
   ],
   "source": [
    "print(\"Train set : \", train[\"Fare\"].isna().sum())\n",
    "print(\"Test set : \", test[\"Fare\"].isna().sum())"
   ]
  },
  {
   "cell_type": "code",
   "execution_count": 55,
   "metadata": {},
   "outputs": [
    {
     "data": {
      "text/html": [
       "<div>\n",
       "<style scoped>\n",
       "    .dataframe tbody tr th:only-of-type {\n",
       "        vertical-align: middle;\n",
       "    }\n",
       "\n",
       "    .dataframe tbody tr th {\n",
       "        vertical-align: top;\n",
       "    }\n",
       "\n",
       "    .dataframe thead th {\n",
       "        text-align: right;\n",
       "    }\n",
       "</style>\n",
       "<table border=\"1\" class=\"dataframe\">\n",
       "  <thead>\n",
       "    <tr style=\"text-align: right;\">\n",
       "      <th></th>\n",
       "      <th>Pclass</th>\n",
       "      <th>Sex</th>\n",
       "      <th>Age</th>\n",
       "      <th>SibSp</th>\n",
       "      <th>Parch</th>\n",
       "      <th>Ticket</th>\n",
       "      <th>Fare</th>\n",
       "      <th>Cabin</th>\n",
       "      <th>Embarked</th>\n",
       "      <th>Title</th>\n",
       "      <th>AgeCategory</th>\n",
       "      <th>FamilySize</th>\n",
       "      <th>FamilyCat</th>\n",
       "      <th>Alone</th>\n",
       "      <th>Deck</th>\n",
       "    </tr>\n",
       "    <tr>\n",
       "      <th>PassengerId</th>\n",
       "      <th></th>\n",
       "      <th></th>\n",
       "      <th></th>\n",
       "      <th></th>\n",
       "      <th></th>\n",
       "      <th></th>\n",
       "      <th></th>\n",
       "      <th></th>\n",
       "      <th></th>\n",
       "      <th></th>\n",
       "      <th></th>\n",
       "      <th></th>\n",
       "      <th></th>\n",
       "      <th></th>\n",
       "      <th></th>\n",
       "    </tr>\n",
       "  </thead>\n",
       "  <tbody>\n",
       "    <tr>\n",
       "      <th>1044</th>\n",
       "      <td>3</td>\n",
       "      <td>male</td>\n",
       "      <td>60.5</td>\n",
       "      <td>0</td>\n",
       "      <td>0</td>\n",
       "      <td>4DIGITS</td>\n",
       "      <td>NaN</td>\n",
       "      <td>NaN</td>\n",
       "      <td>S</td>\n",
       "      <td>Mr</td>\n",
       "      <td>senior</td>\n",
       "      <td>1</td>\n",
       "      <td>Single</td>\n",
       "      <td>1</td>\n",
       "      <td>NaN</td>\n",
       "    </tr>\n",
       "  </tbody>\n",
       "</table>\n",
       "</div>"
      ],
      "text/plain": [
       "             Pclass   Sex   Age  SibSp  Parch   Ticket  Fare Cabin Embarked  \\\n",
       "PassengerId                                                                   \n",
       "1044              3  male  60.5      0      0  4DIGITS   NaN   NaN        S   \n",
       "\n",
       "            Title AgeCategory  FamilySize FamilyCat  Alone Deck  \n",
       "PassengerId                                                      \n",
       "1044           Mr      senior           1    Single      1  NaN  "
      ]
     },
     "execution_count": 55,
     "metadata": {},
     "output_type": "execute_result"
    }
   ],
   "source": [
    "test.iloc[np.where(test[\"Fare\"].isna())]"
   ]
  },
  {
   "cell_type": "markdown",
   "metadata": {},
   "source": [
    "There is one missing value in the test set. We will simply imput it with the mean for third class, male and people who embarked at Southampton."
   ]
  },
  {
   "cell_type": "code",
   "execution_count": 56,
   "metadata": {},
   "outputs": [],
   "source": [
    "missing_value_for_fare = combined.iloc[np.where((combined[\"Sex\"] == \"male\") & (\n",
    "    combined[\"Pclass\"] == 3) & (combined[\"Embarked\"] == \"S\"))][\"Fare\"].mean()"
   ]
  },
  {
   "cell_type": "code",
   "execution_count": 57,
   "metadata": {},
   "outputs": [],
   "source": [
    "# Missing values imputation by the mean\n",
    "test[\"Fare\"] = test[\"Fare\"].fillna(missing_value_for_fare)"
   ]
  },
  {
   "cell_type": "code",
   "execution_count": 58,
   "metadata": {},
   "outputs": [],
   "source": [
    "train[\"Deck\"] = train.apply(lambda x: value_cabin(x) if x['Deck'] == \"NaN\" else x['Deck'], axis=1)\n",
    "test[\"Deck\"] = test.apply(lambda x: value_cabin(x) if x['Deck'] == \"NaN\" else x['Deck'], axis=1)"
   ]
  },
  {
   "cell_type": "code",
   "execution_count": 59,
   "metadata": {},
   "outputs": [
    {
     "data": {
      "text/plain": [
       "G    465\n",
       "F    114\n",
       "C     77\n",
       "T     66\n",
       "B     55\n",
       "D     43\n",
       "A     36\n",
       "E     35\n",
       "Name: Deck, dtype: int64"
      ]
     },
     "execution_count": 59,
     "metadata": {},
     "output_type": "execute_result"
    }
   ],
   "source": [
    "train[\"Deck\"].value_counts()"
   ]
  },
  {
   "cell_type": "code",
   "execution_count": 60,
   "metadata": {},
   "outputs": [
    {
     "data": {
      "image/png": "[encoded data removed]",
      "text/plain": [
       "<Figure size 432x288 with 1 Axes>"
      ]
     },
     "metadata": {},
     "output_type": "display_data"
    }
   ],
   "source": [
    "sns.countplot(x=\"Deck\", hue=\"Survived\", data=train)\n",
    "plt.title(\"Cabin deck and survival\", fontweight=\"bold\", fontsize=12)\n",
    "plt.ylabel(\"Number of people\")\n",
    "plt.xlabel(\"Cabin deck\");"
   ]
  },
  {
   "cell_type": "markdown",
   "metadata": {},
   "source": [
    "<ul><li><b>Fare : the fare of the ticket<b></li></ul>\n",
    "\n",
    "\n",
    "<div align='justify'>This is a quantitative variable. The average fare of a ticket is 32.20 dollars and it spreads from 0 dollar (free ticket) to 512.32 dollars (for the most luxurious cabins).</div>"
   ]
  },
  {
   "cell_type": "markdown",
   "metadata": {},
   "source": [
    "Then, let's have a look at the fare distribution."
   ]
  },
  {
   "cell_type": "code",
   "execution_count": 61,
   "metadata": {},
   "outputs": [
    {
     "data": {
      "image/png": "[encoded data removed]",
      "text/plain": [
       "<Figure size 360x288 with 1 Axes>"
      ]
     },
     "metadata": {},
     "output_type": "display_data"
    }
   ],
   "source": [
    "plt.figure(figsize=(5, 4))\n",
    "sns.kdeplot(data=train[train[\"Survived\"]==1][\"Fare\"], color='red')\n",
    "sns.kdeplot(data=train[train[\"Survived\"]==0][\"Fare\"], color='blue')\n",
    "plt.legend(labels=['Survived', 'Not survived'])\n",
    "plt.title(\"Distribution of ticket fare\", fontweight='bold', fontsize=12);"
   ]
  },
  {
   "cell_type": "markdown",
   "metadata": {},
   "source": [
    "<div align='justify'>   \n",
    "The distribution is right-skewed because it has a long tail on the right. This tail region can act as an outlier for the model and affect its performance. Some models are robust to outliers such as tree-based models but testing only this will miss other models that may be interesting. One solution is to transform the data to approach a normal distribution. But for now, I decided to let the variable like this.\n",
    "</div>"
   ]
  },
  {
   "cell_type": "markdown",
   "metadata": {},
   "source": [
    "<div align='justify'>The price of the ticket seems to take into account the size of the family, so we will create a variable that relates the price of the ticket to the person in question, although we can imagine that the price of a child's ticket would not be the same as an adult's ticket. This would require further transformations. </div>"
   ]
  },
  {
   "cell_type": "code",
   "execution_count": 62,
   "metadata": {},
   "outputs": [],
   "source": [
    "# Compute the real fare per person\n",
    "train['RealFare'] = train.Fare/train.FamilySize\n",
    "test['RealFare'] = test.Fare/test.FamilySize"
   ]
  },
  {
   "cell_type": "markdown",
   "metadata": {},
   "source": [
    "Finally, price groups can also be created. "
   ]
  },
  {
   "cell_type": "code",
   "execution_count": 63,
   "metadata": {},
   "outputs": [],
   "source": [
    "def categorize_fare(x):\n",
    "    res = ''\n",
    "    if x <= 4:\n",
    "        res = 'Very low'\n",
    "    elif x <= 10:\n",
    "        res = 'Low'\n",
    "    elif x <= 20:\n",
    "        res = 'Mid'\n",
    "    elif x <= 45:\n",
    "        res = 'High'\n",
    "    else:\n",
    "        res = \"Very high\"\n",
    "    return res"
   ]
  },
  {
   "cell_type": "code",
   "execution_count": 64,
   "metadata": {},
   "outputs": [],
   "source": [
    "train['FareCat'] = train['RealFare'].apply(lambda x: categorize_fare(x))\n",
    "test['FareCat'] = test['RealFare'].apply(lambda x: categorize_fare(x))"
   ]
  },
  {
   "cell_type": "markdown",
   "metadata": {},
   "source": [
    "<font size=4pt><b>Final dataset<b></font>"
   ]
  },
  {
   "cell_type": "markdown",
   "metadata": {},
   "source": [
    "The final dataset looks like this:"
   ]
  },
  {
   "cell_type": "code",
   "execution_count": 65,
   "metadata": {},
   "outputs": [
    {
     "data": {
      "text/html": [
       "<div>\n",
       "<style scoped>\n",
       "    .dataframe tbody tr th:only-of-type {\n",
       "        vertical-align: middle;\n",
       "    }\n",
       "\n",
       "    .dataframe tbody tr th {\n",
       "        vertical-align: top;\n",
       "    }\n",
       "\n",
       "    .dataframe thead th {\n",
       "        text-align: right;\n",
       "    }\n",
       "</style>\n",
       "<table border=\"1\" class=\"dataframe\">\n",
       "  <thead>\n",
       "    <tr style=\"text-align: right;\">\n",
       "      <th></th>\n",
       "      <th>Survived</th>\n",
       "      <th>Pclass</th>\n",
       "      <th>Sex</th>\n",
       "      <th>Age</th>\n",
       "      <th>SibSp</th>\n",
       "      <th>Parch</th>\n",
       "      <th>Ticket</th>\n",
       "      <th>Fare</th>\n",
       "      <th>Cabin</th>\n",
       "      <th>Embarked</th>\n",
       "      <th>Title</th>\n",
       "      <th>AgeCategory</th>\n",
       "      <th>FamilySize</th>\n",
       "      <th>FamilyCat</th>\n",
       "      <th>Alone</th>\n",
       "      <th>Deck</th>\n",
       "      <th>RealFare</th>\n",
       "      <th>FareCat</th>\n",
       "    </tr>\n",
       "    <tr>\n",
       "      <th>PassengerId</th>\n",
       "      <th></th>\n",
       "      <th></th>\n",
       "      <th></th>\n",
       "      <th></th>\n",
       "      <th></th>\n",
       "      <th></th>\n",
       "      <th></th>\n",
       "      <th></th>\n",
       "      <th></th>\n",
       "      <th></th>\n",
       "      <th></th>\n",
       "      <th></th>\n",
       "      <th></th>\n",
       "      <th></th>\n",
       "      <th></th>\n",
       "      <th></th>\n",
       "      <th></th>\n",
       "      <th></th>\n",
       "    </tr>\n",
       "  </thead>\n",
       "  <tbody>\n",
       "    <tr>\n",
       "      <th>1</th>\n",
       "      <td>0</td>\n",
       "      <td>3</td>\n",
       "      <td>male</td>\n",
       "      <td>22.0</td>\n",
       "      <td>1</td>\n",
       "      <td>0</td>\n",
       "      <td>A5</td>\n",
       "      <td>7.2500</td>\n",
       "      <td>NaN</td>\n",
       "      <td>S</td>\n",
       "      <td>Mr</td>\n",
       "      <td>young adult</td>\n",
       "      <td>2</td>\n",
       "      <td>SmallFamily</td>\n",
       "      <td>0</td>\n",
       "      <td>G</td>\n",
       "      <td>3.62500</td>\n",
       "      <td>Very low</td>\n",
       "    </tr>\n",
       "    <tr>\n",
       "      <th>2</th>\n",
       "      <td>1</td>\n",
       "      <td>1</td>\n",
       "      <td>female</td>\n",
       "      <td>38.0</td>\n",
       "      <td>1</td>\n",
       "      <td>0</td>\n",
       "      <td>PC</td>\n",
       "      <td>71.2833</td>\n",
       "      <td>C85</td>\n",
       "      <td>C</td>\n",
       "      <td>Miss/Mrs</td>\n",
       "      <td>adult</td>\n",
       "      <td>2</td>\n",
       "      <td>SmallFamily</td>\n",
       "      <td>0</td>\n",
       "      <td>C</td>\n",
       "      <td>35.64165</td>\n",
       "      <td>High</td>\n",
       "    </tr>\n",
       "    <tr>\n",
       "      <th>3</th>\n",
       "      <td>1</td>\n",
       "      <td>3</td>\n",
       "      <td>female</td>\n",
       "      <td>26.0</td>\n",
       "      <td>0</td>\n",
       "      <td>0</td>\n",
       "      <td>STONO2</td>\n",
       "      <td>7.9250</td>\n",
       "      <td>NaN</td>\n",
       "      <td>S</td>\n",
       "      <td>Miss/Mrs</td>\n",
       "      <td>young adult</td>\n",
       "      <td>1</td>\n",
       "      <td>Single</td>\n",
       "      <td>1</td>\n",
       "      <td>G</td>\n",
       "      <td>7.92500</td>\n",
       "      <td>Low</td>\n",
       "    </tr>\n",
       "    <tr>\n",
       "      <th>4</th>\n",
       "      <td>1</td>\n",
       "      <td>1</td>\n",
       "      <td>female</td>\n",
       "      <td>35.0</td>\n",
       "      <td>1</td>\n",
       "      <td>0</td>\n",
       "      <td>6DIGITS</td>\n",
       "      <td>53.1000</td>\n",
       "      <td>C123</td>\n",
       "      <td>S</td>\n",
       "      <td>Miss/Mrs</td>\n",
       "      <td>adult</td>\n",
       "      <td>2</td>\n",
       "      <td>SmallFamily</td>\n",
       "      <td>0</td>\n",
       "      <td>C</td>\n",
       "      <td>26.55000</td>\n",
       "      <td>High</td>\n",
       "    </tr>\n",
       "    <tr>\n",
       "      <th>5</th>\n",
       "      <td>0</td>\n",
       "      <td>3</td>\n",
       "      <td>male</td>\n",
       "      <td>35.0</td>\n",
       "      <td>0</td>\n",
       "      <td>0</td>\n",
       "      <td>6DIGITS</td>\n",
       "      <td>8.0500</td>\n",
       "      <td>NaN</td>\n",
       "      <td>S</td>\n",
       "      <td>Mr</td>\n",
       "      <td>adult</td>\n",
       "      <td>1</td>\n",
       "      <td>Single</td>\n",
       "      <td>1</td>\n",
       "      <td>G</td>\n",
       "      <td>8.05000</td>\n",
       "      <td>Low</td>\n",
       "    </tr>\n",
       "  </tbody>\n",
       "</table>\n",
       "</div>"
      ],
      "text/plain": [
       "             Survived  Pclass     Sex   Age  SibSp  Parch   Ticket     Fare  \\\n",
       "PassengerId                                                                   \n",
       "1                   0       3    male  22.0      1      0       A5   7.2500   \n",
       "2                   1       1  female  38.0      1      0       PC  71.2833   \n",
       "3                   1       3  female  26.0      0      0   STONO2   7.9250   \n",
       "4                   1       1  female  35.0      1      0  6DIGITS  53.1000   \n",
       "5                   0       3    male  35.0      0      0  6DIGITS   8.0500   \n",
       "\n",
       "            Cabin Embarked     Title  AgeCategory  FamilySize    FamilyCat  \\\n",
       "PassengerId                                                                  \n",
       "1             NaN        S        Mr  young adult           2  SmallFamily   \n",
       "2             C85        C  Miss/Mrs        adult           2  SmallFamily   \n",
       "3             NaN        S  Miss/Mrs  young adult           1       Single   \n",
       "4            C123        S  Miss/Mrs        adult           2  SmallFamily   \n",
       "5             NaN        S        Mr        adult           1       Single   \n",
       "\n",
       "             Alone Deck  RealFare   FareCat  \n",
       "PassengerId                                  \n",
       "1                0    G   3.62500  Very low  \n",
       "2                0    C  35.64165      High  \n",
       "3                1    G   7.92500       Low  \n",
       "4                0    C  26.55000      High  \n",
       "5                1    G   8.05000       Low  "
      ]
     },
     "execution_count": 65,
     "metadata": {},
     "output_type": "execute_result"
    }
   ],
   "source": [
    "train.head()"
   ]
  },
  {
   "cell_type": "markdown",
   "metadata": {},
   "source": [
    "To build our models, we will use the following variables :"
   ]
  },
  {
   "cell_type": "code",
   "execution_count": 66,
   "metadata": {},
   "outputs": [],
   "source": [
    "features = list(train.loc[:, ~train.columns.isin(['Survived', 'Cabin', 'Ticket', 'Fare'])].columns)"
   ]
  },
  {
   "cell_type": "code",
   "execution_count": 67,
   "metadata": {},
   "outputs": [],
   "source": [
    "train_X = train[features]\n",
    "train_y = train[\"Survived\"]"
   ]
  },
  {
   "cell_type": "code",
   "execution_count": 68,
   "metadata": {},
   "outputs": [],
   "source": [
    "preprocess_test = test[features]"
   ]
  },
  {
   "cell_type": "markdown",
   "metadata": {},
   "source": [
    "<ul><ol><b><h3>III. Searching for a predictive model</h3></b></ol><ul>"
   ]
  },
  {
   "cell_type": "code",
   "execution_count": 69,
   "metadata": {},
   "outputs": [],
   "source": [
    "from sklearn.preprocessing import StandardScaler\n",
    "from sklearn import preprocessing\n",
    "from sklearn.model_selection import GridSearchCV, cross_val_score, KFold, train_test_split, learning_curve, StratifiedKFold\n",
    "from sklearn.linear_model import LogisticRegression\n",
    "from sklearn.ensemble import RandomForestClassifier, AdaBoostClassifier, GradientBoostingClassifier, VotingClassifier, BaggingClassifier, ExtraTreesClassifier\n",
    "from sklearn.svm import SVC\n",
    "from sklearn.tree import DecisionTreeClassifier\n",
    "import xgboost as xgb\n",
    "from sklearn.pipeline import Pipeline\n",
    "from sklearn.compose import ColumnTransformer\n",
    "from sklearn.metrics import accuracy_score\n",
    "from sklearn.model_selection import StratifiedShuffleSplit\n",
    "from sklearn.neighbors import KNeighborsClassifier"
   ]
  },
  {
   "cell_type": "code",
   "execution_count": 70,
   "metadata": {},
   "outputs": [],
   "source": [
    "import warnings\n",
    "warnings.filterwarnings(\"ignore\")"
   ]
  },
  {
   "cell_type": "markdown",
   "metadata": {},
   "source": [
    "<div align='justify'>Before perform modeling on our dataset, we need to transform some features into numerical features as there are categorical variables that sometimes cannot be handled by machine learning algorithm. Furthermore, we will scaler our variables as they don't have the same units.</div>"
   ]
  },
  {
   "cell_type": "code",
   "execution_count": 71,
   "metadata": {},
   "outputs": [],
   "source": [
    "categorical_features = [\"Embarked\", \"Title\", \"AgeCategory\", \"FamilyCat\", \"Deck\", \"Sex\", \"FareCat\"]"
   ]
  },
  {
   "cell_type": "code",
   "execution_count": 72,
   "metadata": {},
   "outputs": [],
   "source": [
    "le = preprocessing.LabelEncoder()\n",
    "for col in categorical_features:\n",
    "    le.fit(train_X[col])\n",
    "    train_X[col] = le.transform(train_X[col])\n",
    "    preprocess_test[col] = le.transform(preprocess_test[col])"
   ]
  },
  {
   "cell_type": "code",
   "execution_count": 73,
   "metadata": {},
   "outputs": [],
   "source": [
    "preprocess_features = train_X.columns"
   ]
  },
  {
   "cell_type": "code",
   "execution_count": 74,
   "metadata": {},
   "outputs": [],
   "source": [
    "scale_pipeline = Pipeline([\n",
    "    ('scale', StandardScaler())\n",
    "])\n",
    "\n",
    "preprocess_pipeline = ColumnTransformer([\n",
    "    ('numerical', scale_pipeline, preprocess_features),\n",
    "])"
   ]
  },
  {
   "cell_type": "markdown",
   "metadata": {},
   "source": [
    "<b><font size=\"4pt\">Comparison of the models</font></b>"
   ]
  },
  {
   "cell_type": "markdown",
   "metadata": {},
   "source": [
    "<div align='justify'>In this part, we will test different models on the training set provided. To do this, we will proceed as follows. <br>\n",
    "    <br>\n",
    "As we do not have many examples and to avoid depending on the training sample chosen, we will use <b>cross validation</b> to choose the best hyperparameters for each model (<b>GridSearchCV</b> in sklearn). In the basic approach, called k-fold CV, the training set is split into k smaller sets. The following procedure is followed for each of the k “folds” :\n",
    "\n",
    "<ul>\n",
    "    <li>A model is trained using $k-1$ of the folds as training data</li>\n",
    "    <li>The resulting model is validated on the remaining part of the data (i.e., it is used as a test set to compute a performance measure such as accuracy.</li>\n",
    "        </ul>\n",
    "The performance measure reported by k-fold cross-validation is then the average of the values computed in the loop and is an estimation of the prediction error.\n",
    "        <br>\n",
    "In the context of hyperparameters tuning, the score is approximately maximized by fitting a model to each training set, and then directly maximized in selecting (hyper)parameters over the validation set. </div>"
   ]
  },
  {
   "cell_type": "markdown",
   "metadata": {},
   "source": [
    "<div>\n",
    "<img src=\"grid_search_cross_validation.png\" width=\"400\"/>\n",
    "</div>\n",
    "\n",
    "Source : https://scikit-learn.org/stable/modules/cross_validation.html#cross-validation"
   ]
  },
  {
   "cell_type": "markdown",
   "metadata": {},
   "source": [
    "<div align='justify'>Here, we will make the assumption that the data are iid (independent and identically distributed), i.e. all samples stem from the same generative process and that the generative process is assumed to have no memory of past generated samples. \n",
    "<br>\n",
    "<br>In the <b>GridSearchCV</b> class, when you pass an integer to the parameter \"cv\" (i.e. the number of folds) and you pass a classifier, the method applied is a stratified cross-validator (<b>StratifiedKFold</b>). The folds are made by preserving the percentage of samples for each class.<br>\n",
    "<br>\n",
    "I choose to compare the following classifiers:\n",
    "<ul>\n",
    "    <li>KNN Classifier</li>\n",
    "    <li>Extra Trees</li>\n",
    "    <li>Random Forests</li>\n",
    "    <li>SVM</li>\n",
    "    <li>Adaboost</li>\n",
    "    <li>Gradient Boosting</li>\n",
    "    <li>XGBoost</li>\n",
    "</ul>\n",
    "</div>"
   ]
  },
  {
   "cell_type": "code",
   "execution_count": 75,
   "metadata": {},
   "outputs": [
    {
     "name": "stdout",
     "output_type": "stream",
     "text": [
      "KNN Classifier CV score : 0.813692480359147\n",
      "----------\n",
      "Extra Trees CV score : 0.8260381593714927\n",
      "----------\n",
      "Random Forests CV score : 0.835016835016835\n",
      "----------\n",
      "SVM CV score : 0.835016835016835\n",
      "----------\n",
      "Adaboost CV score : 0.8170594837261503\n",
      "----------\n",
      "Gradient Boosting CV score : 0.8327721661054994\n",
      "----------\n",
      "XGBoost CV score : 0.8451178451178452\n",
      "----------\n"
     ]
    }
   ],
   "source": [
    "np.random.seed(0)\n",
    "\n",
    "names = [\n",
    "         \"KNN Classifier\",\n",
    "         \"Extra Trees\",\n",
    "         \"Random Forests\",\n",
    "         \"SVM\",\n",
    "         \"Adaboost\",\n",
    "         \"Gradient Boosting\",\n",
    "         \"XGBoost\"\n",
    "        ]\n",
    "\n",
    "classifiers = [\n",
    "    KNeighborsClassifier(),\n",
    "    ExtraTreesClassifier(random_state=0),\n",
    "    RandomForestClassifier(random_state=0),\n",
    "    SVC(probability=True, random_state=0),\n",
    "    AdaBoostClassifier(base_estimator=DecisionTreeClassifier(), random_state=0),\n",
    "    GradientBoostingClassifier(random_state=0),\n",
    "    xgb.XGBClassifier(random_state=0)\n",
    "]\n",
    "\n",
    "\n",
    "parameters = [\n",
    "              {\"clf__n_neighbors\": range(1, 31), #knn classifier\n",
    "               \"clf__weights\": ['uniform', 'distance']   \n",
    "              }, \n",
    "    \n",
    "              {\"clf__max_depth\": [None], # extra trees\n",
    "              \"clf__max_features\": [1, 3, 10],\n",
    "              \"clf__min_samples_split\": [2, 3, 10],\n",
    "              \"clf__min_samples_leaf\": [1, 3, 10],\n",
    "              \"clf__bootstrap\": [False],\n",
    "              \"clf__n_estimators\" :[100,300],\n",
    "              \"clf__criterion\": [\"gini\"]\n",
    "              },\n",
    "    \n",
    "              {\"clf__max_depth\": range(1, 10), # random forests\n",
    "              #\"clf__max_features\": [1, 3, 10],\n",
    "              #\"clf__min_samples_split\": [2, 3, 10],\n",
    "              #\"clf__min_samples_leaf\": [1, 3, 10],\n",
    "              #\"clf__bootstrap\": [False],\n",
    "              \"clf__n_estimators\" :[140,145,150,155,160],\n",
    "              \"clf__criterion\": ['gini', 'entropy']\n",
    "              },\n",
    "    \n",
    "              {'clf__kernel': ['rbf'], #svc\n",
    "               'clf__gamma': [ 0.001, 0.01, 0.1, 1],\n",
    "               'clf__C': [1, 10, 50, 100,200,300, 1000]\n",
    "              },\n",
    "    \n",
    "              {\"clf__base_estimator__criterion\" : [\"gini\", \"entropy\"], # adaboost\n",
    "              \"clf__base_estimator__splitter\" :   [\"best\", \"random\"],\n",
    "              \"clf__algorithm\" : [\"SAMME\",\"SAMME.R\"],\n",
    "              \"clf__n_estimators\" :[1,2],\n",
    "              \"clf__learning_rate\":  [0.0001, 0.001, 0.01, 0.1, 0.2, 0.3,1.5]\n",
    "              },\n",
    "    \n",
    "              {'clf__loss' : [\"deviance\"], # gradient boosting\n",
    "              'clf__n_estimators' : [100,200,300],\n",
    "              'clf__learning_rate': [0.1, 0.05, 0.01],\n",
    "              'clf__max_depth': [4, 8],\n",
    "              'clf__min_samples_leaf': [100,150],\n",
    "              'clf__max_features': [0.3, 0.1] \n",
    "              },\n",
    "    \n",
    "              {\n",
    "              'clf__min_child_weight': [1, 5, 10], #xgboost\n",
    "              'clf__gamma': [0.5, 1, 1.5, 2, 5],\n",
    "              'clf__subsample': [0.6, 0.8, 1.0],\n",
    "              'clf__colsample_bytree': [0.6, 0.8, 1.0],\n",
    "              'clf__max_depth': [3, 4, 5]\n",
    "              },\n",
    "             ]\n",
    "\n",
    "models_tuned = {}\n",
    "accuracy_scores = []\n",
    "\n",
    "for name, classifier, params in zip(names, classifiers, parameters):\n",
    "    clf_pipe = Pipeline([\n",
    "        ('preprocessing', preprocess_pipeline),\n",
    "        ('clf', classifier),\n",
    "    ])\n",
    "    \n",
    "    gs_clf = GridSearchCV(clf_pipe, param_grid=params, n_jobs=-1, scoring=\"accuracy\", cv=10, return_train_score=True)\n",
    "    clf = gs_clf.fit(train_X, train_y)\n",
    "    print(\"{} CV score : {}\".format(name, clf.best_score_))\n",
    "    accuracy_scores.append(clf.best_score_)\n",
    "    models_tuned.update({name: clf.best_estimator_})\n",
    "    print(\"-\"*10)"
   ]
  },
  {
   "cell_type": "code",
   "execution_count": 76,
   "metadata": {},
   "outputs": [
    {
     "data": {
      "image/png": "[encoded data removed]",
      "text/plain": [
       "<Figure size 432x288 with 1 Axes>"
      ]
     },
     "metadata": {},
     "output_type": "display_data"
    }
   ],
   "source": [
    "y_pos = np.arange(len(names))\n",
    "plt.barh(y_pos, accuracy_scores)\n",
    "plt.yticks(y_pos, names)\n",
    "plt.xlim(0, 1)\n",
    "plt.axvline(x=0.8, color='red', linestyle=\"--\")\n",
    "plt.title(\"Accuracy scores for the classifiers tested\",\n",
    "          fontweight='bold', fontsize=12);"
   ]
  },
  {
   "cell_type": "markdown",
   "metadata": {},
   "source": [
    "<div align='justify'>The best tuned models have accuracies greater than 80%, which means that on validation samples, these models are wrong on average less than 20 times out of 100, but these results tell us nothing about the learning state of the model, its bias and variance. To analyze this in detail, we will represent the learning curves of each of the models. The learning curves indicate how the error changes as the training sample size increases. I used the ```plot_learning_curve``` function from the scikit-learn library (https://scikit-learn.org/stable/auto_examples/model_selection/plot_learning_curve.html).</div>"
   ]
  },
  {
   "cell_type": "code",
   "execution_count": 106,
   "metadata": {},
   "outputs": [],
   "source": [
    "def plot_learning_curve(estimator, title, X, y, ylim=None, cv=None,\n",
    "                        n_jobs=-1, train_sizes=np.linspace(.1, 1.0, 10)):\n",
    "    \"\"\"Generate a simple plot of the test and training learning curve\"\"\"\n",
    "    plt.figure()\n",
    "    plt.title(title)\n",
    "    if ylim is not None:\n",
    "        plt.ylim(*ylim)\n",
    "    plt.xlabel(\"Training examples\")\n",
    "    plt.ylabel(\"Score\")\n",
    "    train_sizes, train_scores, test_scores = learning_curve(\n",
    "        estimator, X, y, cv=cv, n_jobs=n_jobs, train_sizes=train_sizes)\n",
    "    train_scores_mean = np.mean(train_scores, axis=1)\n",
    "    train_scores_std = np.std(train_scores, axis=1)\n",
    "    test_scores_mean = np.mean(test_scores, axis=1)\n",
    "    test_scores_std = np.std(test_scores, axis=1)\n",
    "    plt.grid()\n",
    "\n",
    "    plt.fill_between(train_sizes, train_scores_mean - train_scores_std,\n",
    "                     train_scores_mean + train_scores_std, alpha=0.1,\n",
    "                     color=\"r\")\n",
    "    plt.fill_between(train_sizes, test_scores_mean - test_scores_std,\n",
    "                     test_scores_mean + test_scores_std, alpha=0.1, color=\"g\")\n",
    "    plt.plot(train_sizes, train_scores_mean, 'o-', color=\"r\",\n",
    "             label=\"Training score\")\n",
    "    plt.plot(train_sizes, test_scores_mean, 'o-', color=\"g\",\n",
    "             label=\"Cross-validation score\")\n",
    "\n",
    "    plt.legend(loc=\"best\")\n",
    "    return plt"
   ]
  },
  {
   "cell_type": "markdown",
   "metadata": {},
   "source": [
    "<ul><li><b>KNN Classifier<b></li></ul>"
   ]
  },
  {
   "cell_type": "code",
   "execution_count": 107,
   "metadata": {},
   "outputs": [
    {
     "data": {
      "image/png": "[encoded data removed]",
      "text/plain": [
       "<Figure size 432x288 with 1 Axes>"
      ]
     },
     "metadata": {},
     "output_type": "display_data"
    }
   ],
   "source": [
    "cv = StratifiedKFold(n_splits=10, random_state=0)\n",
    "g = plot_learning_curve(models_tuned[\"KNN Classifier\"], \"KNN\", train_X, train_y, cv=cv)"
   ]
  },
  {
   "cell_type": "markdown",
   "metadata": {},
   "source": [
    "<ul><li><b>Extra Trees<b></li></ul>"
   ]
  },
  {
   "cell_type": "code",
   "execution_count": 95,
   "metadata": {},
   "outputs": [
    {
     "data": {
      "image/png": "[encoded data removed]",
      "text/plain": [
       "<Figure size 432x288 with 1 Axes>"
      ]
     },
     "metadata": {},
     "output_type": "display_data"
    }
   ],
   "source": [
    "g = plot_learning_curve(models_tuned[\"Extra Trees\"], \"Extra Trees\", train_X, train_y, cv=cv)"
   ]
  },
  {
   "cell_type": "markdown",
   "metadata": {},
   "source": [
    "<b>Comments</b>: The two curves do not converge, which means that the model would need more data. On the other hand, a lot of variability can be seen around the validation curve, indicating a high variance. Furthermore, the training curve is higher than the validation curve meaning that adding more data would be benefit for generalisation. The model will probably have difficulty generalizing in this state."
   ]
  },
  {
   "cell_type": "markdown",
   "metadata": {},
   "source": [
    "<ul><li><b>SVM<b></li></ul>"
   ]
  },
  {
   "cell_type": "code",
   "execution_count": 96,
   "metadata": {},
   "outputs": [
    {
     "data": {
      "image/png": "[encoded data removed]",
      "text/plain": [
       "<Figure size 432x288 with 1 Axes>"
      ]
     },
     "metadata": {},
     "output_type": "display_data"
    }
   ],
   "source": [
    "g = plot_learning_curve(models_tuned[\"SVM\"], \"SVM\", train_X, train_y, cv=cv)"
   ]
  },
  {
   "cell_type": "markdown",
   "metadata": {},
   "source": [
    "<b>Comments</b>: The two curves converge, which means that more data may not necessarily be needed to improve the model. On the other hand, there is a lot of variability around the validation curve. At the end, as the two curves are very close, it seems that this learning algorithm suffers from high bias. But from 600 examples, the accuracy seems to level off at 83% which indicates that the best performance has been found. If we want to improve accuracy we'd need to find a way to reduce bias, which usually means tuning your modeling parameters. The SVM model is preferable to previous models but could be improved to ensure better generalization."
   ]
  },
  {
   "cell_type": "markdown",
   "metadata": {},
   "source": [
    "<ul><li><b>Random Forests<b></li></ul>"
   ]
  },
  {
   "cell_type": "code",
   "execution_count": 97,
   "metadata": {},
   "outputs": [
    {
     "data": {
      "image/png": "[encoded data removed]",
      "text/plain": [
       "<Figure size 432x288 with 1 Axes>"
      ]
     },
     "metadata": {},
     "output_type": "display_data"
    }
   ],
   "source": [
    "g = plot_learning_curve(models_tuned[\"Random Forests\"], \"Random Forests\", train_X, train_y, cv=cv)"
   ]
  },
  {
   "cell_type": "markdown",
   "metadata": {},
   "source": [
    "<b>Comments</b>: We can see that the validation score and the training score converge to an accuracy of 85%. A little bit more data would help to reach the best performance, but the model is already quite stable. It doesn't seem to suffer from bias as the two curves are not close at the end. However, this model will have a little difficulty to generalize. With SVM, this is for now one of our best model. "
   ]
  },
  {
   "cell_type": "markdown",
   "metadata": {},
   "source": [
    "<ul><li><b>Adaboost<b></li></ul>"
   ]
  },
  {
   "cell_type": "code",
   "execution_count": 98,
   "metadata": {},
   "outputs": [
    {
     "data": {
      "image/png": "[encoded data removed]",
      "text/plain": [
       "<Figure size 432x288 with 1 Axes>"
      ]
     },
     "metadata": {},
     "output_type": "display_data"
    }
   ],
   "source": [
    "g = plot_learning_curve(models_tuned[\"Adaboost\"], \"Adaboost\", train_X, train_y, cv=cv)"
   ]
  },
  {
   "cell_type": "markdown",
   "metadata": {},
   "source": [
    "<b>Comments</b>: The Adaboost model has a large variance. The training score is very high compared to the validation score. Here, data should be added to increase generalization performance."
   ]
  },
  {
   "cell_type": "markdown",
   "metadata": {},
   "source": [
    "<ul><li><b>Gradient Boosting<b></li></ul>"
   ]
  },
  {
   "cell_type": "code",
   "execution_count": 108,
   "metadata": {},
   "outputs": [
    {
     "data": {
      "image/png": "[encoded data removed]",
      "text/plain": [
       "<Figure size 432x288 with 1 Axes>"
      ]
     },
     "metadata": {},
     "output_type": "display_data"
    }
   ],
   "source": [
    "g = plot_learning_curve(models_tuned[\"Gradient Boosting\"], \"GDB\", train_X, train_y, cv=cv)"
   ]
  },
  {
   "cell_type": "markdown",
   "metadata": {},
   "source": [
    "<ul><li><b>XGBoost<b></li></ul>"
   ]
  },
  {
   "cell_type": "code",
   "execution_count": 100,
   "metadata": {},
   "outputs": [
    {
     "data": {
      "image/png": "[encoded data removed]",
      "text/plain": [
       "<Figure size 432x288 with 1 Axes>"
      ]
     },
     "metadata": {},
     "output_type": "display_data"
    }
   ],
   "source": [
    "g = plot_learning_curve(models_tuned[\"XGBoost\"], \"XGBoost\", train_X, train_y, cv=cv)"
   ]
  },
  {
   "cell_type": "markdown",
   "metadata": {},
   "source": [
    "<b><font size=\"4pt\">Prediction correlations</font></b>"
   ]
  },
  {
   "cell_type": "code",
   "execution_count": 109,
   "metadata": {},
   "outputs": [],
   "source": [
    "predictions = pd.DataFrame({'KNN': models_tuned[\"KNN Classifier\"].predict(preprocess_test),\n",
    "              'ET': models_tuned[\"Extra Trees\"].predict(preprocess_test),\n",
    "              'RF': models_tuned[\"Random Forests\"].predict(preprocess_test),\n",
    "              'SVM': models_tuned[\"SVM\"].predict(preprocess_test),\n",
    "              'Adaboost': models_tuned[\"Adaboost\"].predict(preprocess_test),\n",
    "              'GDB': models_tuned[\"Gradient Boosting\"].predict(preprocess_test),\n",
    "              'XGB': models_tuned[\"XGBoost\"].predict(preprocess_test)\n",
    "             })"
   ]
  },
  {
   "cell_type": "code",
   "execution_count": 110,
   "metadata": {},
   "outputs": [
    {
     "data": {
      "text/html": [
       "<div>\n",
       "<style scoped>\n",
       "    .dataframe tbody tr th:only-of-type {\n",
       "        vertical-align: middle;\n",
       "    }\n",
       "\n",
       "    .dataframe tbody tr th {\n",
       "        vertical-align: top;\n",
       "    }\n",
       "\n",
       "    .dataframe thead th {\n",
       "        text-align: right;\n",
       "    }\n",
       "</style>\n",
       "<table border=\"1\" class=\"dataframe\">\n",
       "  <thead>\n",
       "    <tr style=\"text-align: right;\">\n",
       "      <th></th>\n",
       "      <th>KNN</th>\n",
       "      <th>ET</th>\n",
       "      <th>RF</th>\n",
       "      <th>SVM</th>\n",
       "      <th>Adaboost</th>\n",
       "      <th>GDB</th>\n",
       "      <th>XGB</th>\n",
       "    </tr>\n",
       "  </thead>\n",
       "  <tbody>\n",
       "    <tr>\n",
       "      <th>KNN</th>\n",
       "      <td>1.000000</td>\n",
       "      <td>0.772151</td>\n",
       "      <td>0.792947</td>\n",
       "      <td>0.804124</td>\n",
       "      <td>0.591324</td>\n",
       "      <td>0.732502</td>\n",
       "      <td>0.746563</td>\n",
       "    </tr>\n",
       "    <tr>\n",
       "      <th>ET</th>\n",
       "      <td>0.772151</td>\n",
       "      <td>1.000000</td>\n",
       "      <td>0.897908</td>\n",
       "      <td>0.879642</td>\n",
       "      <td>0.638165</td>\n",
       "      <td>0.780684</td>\n",
       "      <td>0.838902</td>\n",
       "    </tr>\n",
       "    <tr>\n",
       "      <th>RF</th>\n",
       "      <td>0.792947</td>\n",
       "      <td>0.897908</td>\n",
       "      <td>1.000000</td>\n",
       "      <td>0.929727</td>\n",
       "      <td>0.622690</td>\n",
       "      <td>0.785537</td>\n",
       "      <td>0.820790</td>\n",
       "    </tr>\n",
       "    <tr>\n",
       "      <th>SVM</th>\n",
       "      <td>0.804124</td>\n",
       "      <td>0.879642</td>\n",
       "      <td>0.929727</td>\n",
       "      <td>1.000000</td>\n",
       "      <td>0.597619</td>\n",
       "      <td>0.728298</td>\n",
       "      <td>0.762660</td>\n",
       "    </tr>\n",
       "    <tr>\n",
       "      <th>Adaboost</th>\n",
       "      <td>0.591324</td>\n",
       "      <td>0.638165</td>\n",
       "      <td>0.622690</td>\n",
       "      <td>0.597619</td>\n",
       "      <td>1.000000</td>\n",
       "      <td>0.582846</td>\n",
       "      <td>0.660595</td>\n",
       "    </tr>\n",
       "    <tr>\n",
       "      <th>GDB</th>\n",
       "      <td>0.732502</td>\n",
       "      <td>0.780684</td>\n",
       "      <td>0.785537</td>\n",
       "      <td>0.728298</td>\n",
       "      <td>0.582846</td>\n",
       "      <td>1.000000</td>\n",
       "      <td>0.835972</td>\n",
       "    </tr>\n",
       "    <tr>\n",
       "      <th>XGB</th>\n",
       "      <td>0.746563</td>\n",
       "      <td>0.838902</td>\n",
       "      <td>0.820790</td>\n",
       "      <td>0.762660</td>\n",
       "      <td>0.660595</td>\n",
       "      <td>0.835972</td>\n",
       "      <td>1.000000</td>\n",
       "    </tr>\n",
       "  </tbody>\n",
       "</table>\n",
       "</div>"
      ],
      "text/plain": [
       "               KNN        ET        RF       SVM  Adaboost       GDB       XGB\n",
       "KNN       1.000000  0.772151  0.792947  0.804124  0.591324  0.732502  0.746563\n",
       "ET        0.772151  1.000000  0.897908  0.879642  0.638165  0.780684  0.838902\n",
       "RF        0.792947  0.897908  1.000000  0.929727  0.622690  0.785537  0.820790\n",
       "SVM       0.804124  0.879642  0.929727  1.000000  0.597619  0.728298  0.762660\n",
       "Adaboost  0.591324  0.638165  0.622690  0.597619  1.000000  0.582846  0.660595\n",
       "GDB       0.732502  0.780684  0.785537  0.728298  0.582846  1.000000  0.835972\n",
       "XGB       0.746563  0.838902  0.820790  0.762660  0.660595  0.835972  1.000000"
      ]
     },
     "execution_count": 110,
     "metadata": {},
     "output_type": "execute_result"
    }
   ],
   "source": [
    "predictions.corr()"
   ]
  },
  {
   "cell_type": "markdown",
   "metadata": {},
   "source": [
    "As can be seen, Random Forests and SVM are the two algorithms most in agreement in terms of predictions on the test sample. <br>\n",
    "The SVM model is chosen for submission."
   ]
  },
  {
   "cell_type": "markdown",
   "metadata": {},
   "source": [
    "<ul><ol><b><h3>IV. Predictions of new data</h3></b></ol><ul>"
   ]
  },
  {
   "cell_type": "code",
   "execution_count": 110,
   "metadata": {},
   "outputs": [],
   "source": [
    "pred = models_tuned[\"SVM\"].predict(preprocess_test)"
   ]
  },
  {
   "cell_type": "code",
   "execution_count": 111,
   "metadata": {},
   "outputs": [],
   "source": [
    "results = pd.DataFrame({'PassengerId' : preprocess_test.index, 'Survived' : pred})"
   ]
  },
  {
   "cell_type": "code",
   "execution_count": 112,
   "metadata": {},
   "outputs": [
    {
     "data": {
      "text/html": [
       "<div>\n",
       "<style scoped>\n",
       "    .dataframe tbody tr th:only-of-type {\n",
       "        vertical-align: middle;\n",
       "    }\n",
       "\n",
       "    .dataframe tbody tr th {\n",
       "        vertical-align: top;\n",
       "    }\n",
       "\n",
       "    .dataframe thead th {\n",
       "        text-align: right;\n",
       "    }\n",
       "</style>\n",
       "<table border=\"1\" class=\"dataframe\">\n",
       "  <thead>\n",
       "    <tr style=\"text-align: right;\">\n",
       "      <th></th>\n",
       "      <th>PassengerId</th>\n",
       "      <th>Survived</th>\n",
       "    </tr>\n",
       "  </thead>\n",
       "  <tbody>\n",
       "    <tr>\n",
       "      <th>0</th>\n",
       "      <td>892</td>\n",
       "      <td>0</td>\n",
       "    </tr>\n",
       "    <tr>\n",
       "      <th>1</th>\n",
       "      <td>893</td>\n",
       "      <td>1</td>\n",
       "    </tr>\n",
       "    <tr>\n",
       "      <th>2</th>\n",
       "      <td>894</td>\n",
       "      <td>0</td>\n",
       "    </tr>\n",
       "    <tr>\n",
       "      <th>3</th>\n",
       "      <td>895</td>\n",
       "      <td>0</td>\n",
       "    </tr>\n",
       "    <tr>\n",
       "      <th>4</th>\n",
       "      <td>896</td>\n",
       "      <td>1</td>\n",
       "    </tr>\n",
       "    <tr>\n",
       "      <th>...</th>\n",
       "      <td>...</td>\n",
       "      <td>...</td>\n",
       "    </tr>\n",
       "    <tr>\n",
       "      <th>413</th>\n",
       "      <td>1305</td>\n",
       "      <td>0</td>\n",
       "    </tr>\n",
       "    <tr>\n",
       "      <th>414</th>\n",
       "      <td>1306</td>\n",
       "      <td>1</td>\n",
       "    </tr>\n",
       "    <tr>\n",
       "      <th>415</th>\n",
       "      <td>1307</td>\n",
       "      <td>0</td>\n",
       "    </tr>\n",
       "    <tr>\n",
       "      <th>416</th>\n",
       "      <td>1308</td>\n",
       "      <td>0</td>\n",
       "    </tr>\n",
       "    <tr>\n",
       "      <th>417</th>\n",
       "      <td>1309</td>\n",
       "      <td>1</td>\n",
       "    </tr>\n",
       "  </tbody>\n",
       "</table>\n",
       "<p>418 rows × 2 columns</p>\n",
       "</div>"
      ],
      "text/plain": [
       "     PassengerId  Survived\n",
       "0            892         0\n",
       "1            893         1\n",
       "2            894         0\n",
       "3            895         0\n",
       "4            896         1\n",
       "..           ...       ...\n",
       "413         1305         0\n",
       "414         1306         1\n",
       "415         1307         0\n",
       "416         1308         0\n",
       "417         1309         1\n",
       "\n",
       "[418 rows x 2 columns]"
      ]
     },
     "execution_count": 112,
     "metadata": {},
     "output_type": "execute_result"
    }
   ],
   "source": [
    "results"
   ]
  },
  {
   "cell_type": "code",
   "execution_count": 113,
   "metadata": {},
   "outputs": [],
   "source": [
    "results.to_csv('submission.csv', index=False)"
   ]
  },
  {
   "cell_type": "markdown",
   "metadata": {},
   "source": [
    "The submission score was 0.78947 (Top 23%).\n",
    "These results could be improved by refining the model's hyperparameters or by testing other algorithms. "
   ]
  }
 ],
 "metadata": {
  "kernelspec": {
   "display_name": "Python 3",
   "language": "python",
   "name": "python3"
  },
  "language_info": {
   "codemirror_mode": {
    "name": "ipython",
    "version": 3
   },
   "file_extension": ".py",
   "mimetype": "text/x-python",
   "name": "python",
   "nbconvert_exporter": "python",
   "pygments_lexer": "ipython3",
   "version": "3.6.5"
  },
  "varInspector": {
   "cols": {
    "lenName": 16,
    "lenType": 16,
    "lenVar": 40
   },
   "kernels_config": {
    "python": {
     "delete_cmd_postfix": "",
     "delete_cmd_prefix": "del ",
     "library": "var_list.py",
     "varRefreshCmd": "print(var_dic_list())"
    },
    "r": {
     "delete_cmd_postfix": ") ",
     "delete_cmd_prefix": "rm(",
     "library": "var_list.r",
     "varRefreshCmd": "cat(var_dic_list()) "
    }
   },
   "types_to_exclude": [
    "module",
    "function",
    "builtin_function_or_method",
    "instance",
    "_Feature"
   ],
   "window_display": false
  }
 },
 "nbformat": 4,
 "nbformat_minor": 2
}
