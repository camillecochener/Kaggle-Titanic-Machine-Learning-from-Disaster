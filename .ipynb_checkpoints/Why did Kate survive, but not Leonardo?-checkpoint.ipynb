{
 "cells": [
  {
   "cell_type": "markdown",
   "metadata": {},
   "source": [
    "<div align='center'><b><h2>Why did Kate survive, but not Leonardo?</h2></b></div>\n",
    "<div align='center'><b><h3>A dive into the ML Titanic challenge</h3></b></div>"
   ]
  },
  {
   "cell_type": "markdown",
   "metadata": {},
   "source": [
    "<div align=\"justify\"><p>The RMS Titanic is a British transatlantic liner that sank in the North Atlantic Ocean in 1912 after colliding with an iceberg on her maiden voyage from Southampton to New York. Between 1,490 and 1,520 people died, making it one of the largest maritime disasters in peacetime and the largest for the time.</p>\n",
    "    <p>As a new member of the Kaggle community, I wanted to start with an in-depth analysis of the famous dataset on the victims and survivors of the sinking of the Titanic.</p></div>"
   ]
  },
  {
   "cell_type": "markdown",
   "metadata": {},
   "source": [
    "<b>Library importation</b>"
   ]
  },
  {
   "cell_type": "code",
   "execution_count": 672,
   "metadata": {},
   "outputs": [],
   "source": [
    "import pandas as pd\n",
    "import matplotlib.pyplot as plt\n",
    "import seaborn as sns\n",
    "import numpy as np\n",
    "import sys\n",
    "from scipy.stats import norm\n",
    "from sklearn.experimental import enable_iterative_imputer\n",
    "from sklearn.impute import IterativeImputer\n",
    "from sklearn.neighbors import KNeighborsRegressor"
   ]
  },
  {
   "cell_type": "code",
   "execution_count": 673,
   "metadata": {},
   "outputs": [],
   "source": [
    "!$sudo source env-titanic/bin/activate"
   ]
  },
  {
   "cell_type": "markdown",
   "metadata": {},
   "source": [
    "<h3>1. <b>Data importation</b></h3>"
   ]
  },
  {
   "cell_type": "code",
   "execution_count": 674,
   "metadata": {},
   "outputs": [],
   "source": [
    "train = pd.read_csv(\"data/train.csv\")"
   ]
  },
  {
   "cell_type": "markdown",
   "metadata": {},
   "source": [
    "Here is a first overview of the Titanic dataset :"
   ]
  },
  {
   "cell_type": "code",
   "execution_count": 675,
   "metadata": {},
   "outputs": [
    {
     "data": {
      "text/html": [
       "<div>\n",
       "<style scoped>\n",
       "    .dataframe tbody tr th:only-of-type {\n",
       "        vertical-align: middle;\n",
       "    }\n",
       "\n",
       "    .dataframe tbody tr th {\n",
       "        vertical-align: top;\n",
       "    }\n",
       "\n",
       "    .dataframe thead th {\n",
       "        text-align: right;\n",
       "    }\n",
       "</style>\n",
       "<table border=\"1\" class=\"dataframe\">\n",
       "  <thead>\n",
       "    <tr style=\"text-align: right;\">\n",
       "      <th></th>\n",
       "      <th>PassengerId</th>\n",
       "      <th>Survived</th>\n",
       "      <th>Pclass</th>\n",
       "      <th>Name</th>\n",
       "      <th>Sex</th>\n",
       "      <th>Age</th>\n",
       "      <th>SibSp</th>\n",
       "      <th>Parch</th>\n",
       "      <th>Ticket</th>\n",
       "      <th>Fare</th>\n",
       "      <th>Cabin</th>\n",
       "      <th>Embarked</th>\n",
       "    </tr>\n",
       "  </thead>\n",
       "  <tbody>\n",
       "    <tr>\n",
       "      <th>0</th>\n",
       "      <td>1</td>\n",
       "      <td>0</td>\n",
       "      <td>3</td>\n",
       "      <td>Braund, Mr. Owen Harris</td>\n",
       "      <td>male</td>\n",
       "      <td>22.0</td>\n",
       "      <td>1</td>\n",
       "      <td>0</td>\n",
       "      <td>A/5 21171</td>\n",
       "      <td>7.2500</td>\n",
       "      <td>NaN</td>\n",
       "      <td>S</td>\n",
       "    </tr>\n",
       "    <tr>\n",
       "      <th>1</th>\n",
       "      <td>2</td>\n",
       "      <td>1</td>\n",
       "      <td>1</td>\n",
       "      <td>Cumings, Mrs. John Bradley (Florence Briggs Th...</td>\n",
       "      <td>female</td>\n",
       "      <td>38.0</td>\n",
       "      <td>1</td>\n",
       "      <td>0</td>\n",
       "      <td>PC 17599</td>\n",
       "      <td>71.2833</td>\n",
       "      <td>C85</td>\n",
       "      <td>C</td>\n",
       "    </tr>\n",
       "    <tr>\n",
       "      <th>2</th>\n",
       "      <td>3</td>\n",
       "      <td>1</td>\n",
       "      <td>3</td>\n",
       "      <td>Heikkinen, Miss. Laina</td>\n",
       "      <td>female</td>\n",
       "      <td>26.0</td>\n",
       "      <td>0</td>\n",
       "      <td>0</td>\n",
       "      <td>STON/O2. 3101282</td>\n",
       "      <td>7.9250</td>\n",
       "      <td>NaN</td>\n",
       "      <td>S</td>\n",
       "    </tr>\n",
       "    <tr>\n",
       "      <th>3</th>\n",
       "      <td>4</td>\n",
       "      <td>1</td>\n",
       "      <td>1</td>\n",
       "      <td>Futrelle, Mrs. Jacques Heath (Lily May Peel)</td>\n",
       "      <td>female</td>\n",
       "      <td>35.0</td>\n",
       "      <td>1</td>\n",
       "      <td>0</td>\n",
       "      <td>113803</td>\n",
       "      <td>53.1000</td>\n",
       "      <td>C123</td>\n",
       "      <td>S</td>\n",
       "    </tr>\n",
       "    <tr>\n",
       "      <th>4</th>\n",
       "      <td>5</td>\n",
       "      <td>0</td>\n",
       "      <td>3</td>\n",
       "      <td>Allen, Mr. William Henry</td>\n",
       "      <td>male</td>\n",
       "      <td>35.0</td>\n",
       "      <td>0</td>\n",
       "      <td>0</td>\n",
       "      <td>373450</td>\n",
       "      <td>8.0500</td>\n",
       "      <td>NaN</td>\n",
       "      <td>S</td>\n",
       "    </tr>\n",
       "  </tbody>\n",
       "</table>\n",
       "</div>"
      ],
      "text/plain": [
       "   PassengerId  Survived  Pclass  \\\n",
       "0            1         0       3   \n",
       "1            2         1       1   \n",
       "2            3         1       3   \n",
       "3            4         1       1   \n",
       "4            5         0       3   \n",
       "\n",
       "                                                Name     Sex   Age  SibSp  \\\n",
       "0                            Braund, Mr. Owen Harris    male  22.0      1   \n",
       "1  Cumings, Mrs. John Bradley (Florence Briggs Th...  female  38.0      1   \n",
       "2                             Heikkinen, Miss. Laina  female  26.0      0   \n",
       "3       Futrelle, Mrs. Jacques Heath (Lily May Peel)  female  35.0      1   \n",
       "4                           Allen, Mr. William Henry    male  35.0      0   \n",
       "\n",
       "   Parch            Ticket     Fare Cabin Embarked  \n",
       "0      0         A/5 21171   7.2500   NaN        S  \n",
       "1      0          PC 17599  71.2833   C85        C  \n",
       "2      0  STON/O2. 3101282   7.9250   NaN        S  \n",
       "3      0            113803  53.1000  C123        S  \n",
       "4      0            373450   8.0500   NaN        S  "
      ]
     },
     "execution_count": 675,
     "metadata": {},
     "output_type": "execute_result"
    }
   ],
   "source": [
    "train.head()"
   ]
  },
  {
   "cell_type": "markdown",
   "metadata": {},
   "source": [
    "Let's analyze and with the famous Titanic training dataset.   \n",
    "\n",
    "This dataset contains :  \n",
    "<li> 891 lines which correspond to each passenger </li>\n",
    "<li> 12 columns which are information about the passengers (id, survive or not, ticket class, name, sex, age, number of siblings, number of parents, ticket id, fare, cabin number, port of embarkation) </li>"
   ]
  },
  {
   "cell_type": "code",
   "execution_count": 676,
   "metadata": {},
   "outputs": [
    {
     "data": {
      "text/plain": [
       "(891, 12)"
      ]
     },
     "execution_count": 676,
     "metadata": {},
     "output_type": "execute_result"
    }
   ],
   "source": [
    "train.shape"
   ]
  },
  {
   "cell_type": "markdown",
   "metadata": {},
   "source": [
    "<div align='justify'><p>The aim of the project is to predict the variable ```Survived``` with the given information about passengers. Before building models, it is essential to explore the dataset to perform cleaning if needed and feature extraction to enrich the content.</p>\n",
    "    <p>Each passenger is identified by a unique ID. This ID is a number varying from 1 to 891. One can expect this feature would not be usefull to predict if a person survived or not. We pass the variable ```PassengerId``` as index.</p></div>"
   ]
  },
  {
   "cell_type": "code",
   "execution_count": 677,
   "metadata": {},
   "outputs": [],
   "source": [
    "train = train.set_index('PassengerId')"
   ]
  },
  {
   "cell_type": "markdown",
   "metadata": {},
   "source": [
    "<h3>2. <b>Data preprocessing</b></h3>"
   ]
  },
  {
   "cell_type": "markdown",
   "metadata": {},
   "source": [
    "Variable information can be found at https://www.kaggle.com/c/titanic/data :  \n",
    "<table>\n",
    "    <thead>\n",
    "        <tr>\n",
    "            <th>Variable</th>\n",
    "            <th align=\"center\">Definition</th>\n",
    "            <th align=\"right\">Key</th>\n",
    "        </tr>\n",
    "    </thead>\n",
    "    <tbody>\n",
    "        <tr>\n",
    "            <td>Survived</td>\n",
    "            <td align=\"center\">Survival</td>\n",
    "            <td align=\"right\">0 = No, 1 = Yes</td>\n",
    "        </tr>\n",
    "        <tr>\n",
    "            <td>Pclass</td>\n",
    "            <td align=\"center\">Ticket class</td>\n",
    "            <td align=\"right\">1 = 1st, 2 = 2nd, 3 = 3rd</td>\n",
    "        </tr>\n",
    "        <tr>\n",
    "            <td>Name</td>\n",
    "            <td align=\"center\">Name of the passenger</td>\n",
    "            <td align=\"right\">A string</td>\n",
    "        </tr>\n",
    "        <tr>\n",
    "            <td>Sex</td>\n",
    "            <td align=\"center\">Sex</td>\n",
    "            <td align=\"right\">Male or female</td>\n",
    "        </tr>\n",
    "        <tr>\n",
    "            <td>Age</td>\n",
    "            <td align=\"center\">Age in years</td>\n",
    "            <td align=\"right\">A float</td>\n",
    "        </tr>\n",
    "        <tr>\n",
    "            <td>SibSp</td>\n",
    "            <td align=\"center\">Number of siblings</td>\n",
    "            <td align=\"right\">An int</td>\n",
    "        </tr>\n",
    "        <tr>\n",
    "            <td>Parch</td>\n",
    "            <td align=\"center\">Number of parents</td>\n",
    "            <td align=\"right\">An int</td>\n",
    "        </tr>\n",
    "        <tr>\n",
    "            <td>Ticket</td>\n",
    "            <td align=\"center\">Ticket number</td>\n",
    "            <td align=\"right\">A string</td>\n",
    "        </tr>\n",
    "        <tr>\n",
    "            <td>Fare</td>\n",
    "            <td align=\"center\">Ticket fare</td>\n",
    "            <td align=\"right\">A float</td>\n",
    "        </tr>\n",
    "        <tr>\n",
    "            <td>Cabin</td>\n",
    "            <td align=\"center\">Cabin number</td>\n",
    "            <td align=\"right\">A string</td>\n",
    "        </tr>\n",
    "        <tr>\n",
    "            <td>Embarked</td>\n",
    "            <td align=\"center\">Port of embarkation</td>\n",
    "            <td align=\"right\">C = Cherbourg, Q = Queenstown, S = Southampton</td>\n",
    "        </tr>\n",
    "    </tbody>\n",
    "</table>\n"
   ]
  },
  {
   "cell_type": "markdown",
   "metadata": {},
   "source": [
    "Let's review each of the variables."
   ]
  },
  {
   "cell_type": "markdown",
   "metadata": {},
   "source": [
    "<li> <i><b>Survived (Target)</b></i>  \n",
    "    <div align='justify'>It is the feature of interest, the target. This is a binary response (1: Yes, 0: No). Let's display the number of people in each category: </div>"
   ]
  },
  {
   "cell_type": "code",
   "execution_count": 678,
   "metadata": {},
   "outputs": [
    {
     "data": {
      "image/png": "[encoded data removed]",
      "text/plain": [
       "<Figure size 432x288 with 1 Axes>"
      ]
     },
     "metadata": {},
     "output_type": "display_data"
    }
   ],
   "source": [
    "fig, ax = plt.subplots()\n",
    "ax.pie(train[\"Survived\"].value_counts(), labels=train[\"Survived\"].unique(), autopct='%1.1f%%',\n",
    "        shadow=True, startangle=90)\n",
    "plt.title(\"Survived\", fontweight=\"bold\")\n",
    "ax.axis('equal');"
   ]
  },
  {
   "cell_type": "markdown",
   "metadata": {},
   "source": [
    "<div align='justify'>There are 60% passengers who didn't survive and 40% who survived. We can consider the data are <b>balanced</b>, it should not cause any significant performance degradation.</div>"
   ]
  },
  {
   "cell_type": "markdown",
   "metadata": {},
   "source": [
    "<li> <i><b>Pclass</b></i>  \n",
    "    <div align='justify'>The ticket class of the passenger. There are three categories : 1st, 2nd and 3rd. To avoid that the algorithm does not give any more importance to one or the other class, this variable will be transformed into binary by encoding. These categories can also be considered as ordered.</div>"
   ]
  },
  {
   "cell_type": "code",
   "execution_count": 679,
   "metadata": {},
   "outputs": [
    {
     "data": {
      "image/png": "[encoded data removed]",
      "text/plain": [
       "<Figure size 432x288 with 1 Axes>"
      ]
     },
     "metadata": {},
     "output_type": "display_data"
    }
   ],
   "source": [
    "fig, ax = plt.subplots()\n",
    "ax.pie(train[\"Pclass\"].value_counts(), labels=train[\"Pclass\"].unique(), autopct='%1.1f%%',\n",
    "        shadow=True, startangle=90)\n",
    "plt.title(\"Class\", fontweight=\"bold\")\n",
    "ax.axis('equal');"
   ]
  },
  {
   "cell_type": "code",
   "execution_count": 680,
   "metadata": {},
   "outputs": [],
   "source": [
    "train[\"Pclass\"] = train[\"Pclass\"].astype(str)"
   ]
  },
  {
   "cell_type": "markdown",
   "metadata": {},
   "source": [
    "<li> <i><b>Name</b></i>\n",
    "        <div align='justify'>The entire name of the passenger in the following form: Last name, Title. First names.  \n",
    "    This variable is interesting because it has one piece of information that we can extract, the person's title. </div>"
   ]
  },
  {
   "cell_type": "code",
   "execution_count": 681,
   "metadata": {},
   "outputs": [],
   "source": [
    "train['Title'] = [x.split(' ')[1] for x in train['Name']]\n",
    "train[\"Title\"] = train[\"Title\"].apply(lambda x: x if x.endswith('.') else \"None\")\n",
    "train['LastName'] = [x.split(',')[0] for x in train['Name']]\n",
    "train['FirstNames'] = [' '.join(x.split(' ')[2::]) for x in train['Name']]\n",
    "train = train.drop(['Name'], axis=1)\n",
    "train[\"Title\"] = np.where(train['Title'].isin([\"Dr.\", \"Rev.\", \"Col.\", \"Major.\", \"Jonkheer.\", \"Don.\", \"Capt.\"]), \"Other\", train[\"Title\"])\n",
    "train[\"Title\"] = np.where(train['Title'].isin([\"Mme.\"]), \"Mrs.\", train[\"Title\"])\n",
    "train[\"Title\"] = np.where(train['Title'].isin([\"Mlle.\", \"Ms.\"]), \"Miss.\", train[\"Title\"])"
   ]
  },
  {
   "cell_type": "code",
   "execution_count": 682,
   "metadata": {},
   "outputs": [
    {
     "data": {
      "text/plain": [
       "Mr.        502\n",
       "Miss.      182\n",
       "Mrs.       122\n",
       "Master.     40\n",
       "None        25\n",
       "Other       20\n",
       "Name: Title, dtype: int64"
      ]
     },
     "execution_count": 682,
     "metadata": {},
     "output_type": "execute_result"
    }
   ],
   "source": [
    "train[\"Title\"].value_counts()"
   ]
  },
  {
   "cell_type": "markdown",
   "metadata": {},
   "source": [
    "<li> <i><b>Sex</b></i>  \n",
    "        <div align='justify'>The sex of the passenger. No transformation are needed.</div>"
   ]
  },
  {
   "cell_type": "code",
   "execution_count": 683,
   "metadata": {},
   "outputs": [
    {
     "data": {
      "image/png": "[encoded data removed]",
      "text/plain": [
       "<Figure size 432x288 with 1 Axes>"
      ]
     },
     "metadata": {},
     "output_type": "display_data"
    }
   ],
   "source": [
    "fig, ax = plt.subplots()\n",
    "ax.pie(train[\"Sex\"].value_counts(), labels=train[\"Sex\"].unique(), autopct='%1.1f%%',\n",
    "        shadow=True, startangle=90)\n",
    "plt.title(\"Sex\", fontweight=\"bold\")\n",
    "ax.axis('equal');"
   ]
  },
  {
   "cell_type": "markdown",
   "metadata": {},
   "source": [
    "<li> <i><b>Age</b></i>  \n",
    "        <div align='justify'>The age of the passenger. This variable is numerical. It ranges from 0.42 to 80 years, with an average of about 30 years. Some values are missing since 714 lines out of 891 are not empty. Because algorithms do not handle missing values well, they will be imputed by different methods. </div>"
   ]
  },
  {
   "cell_type": "code",
   "execution_count": 684,
   "metadata": {},
   "outputs": [
    {
     "name": "stdout",
     "output_type": "stream",
     "text": [
      "Nombre de valeurs manquantes : 177\n"
     ]
    }
   ],
   "source": [
    "print(\"Nombre de valeurs manquantes : {}\".format(train[\"Age\"].isna().sum()))"
   ]
  },
  {
   "cell_type": "markdown",
   "metadata": {},
   "source": [
    "<div align='justify'>Les valeurs manquantes vont être imputées par la méthode des plus proches voisins en utilisant uniquement les variables quantitatives (classe ```IterativeImputer```). This strategy imputes missing values by modeling each feature with missing values as a function of other features in a round-robin fashion. It gives a more precise imputation.</div>"
   ]
  },
  {
   "cell_type": "code",
   "execution_count": 685,
   "metadata": {},
   "outputs": [],
   "source": [
    "# Multivariate feature imputation\n",
    "imp = IterativeImputer(estimator=KNeighborsRegressor(n_neighbors=4), missing_values=np.nan,\n",
    "                       sample_posterior=False, max_iter=10, tol=0.001, n_nearest_features=4)\n",
    "imp.fit(train.drop([\"Survived\", \"Sex\", \"Ticket\", \"Cabin\",\n",
    "                    \"Embarked\", \"Title\", \"LastName\", \"FirstNames\"], axis=1))\n",
    "imputed_data = pd.DataFrame(data=imp.transform(train.drop(\n",
    "    [\"Survived\", \"Sex\", \"Ticket\", \"Cabin\", \"Embarked\", \"Title\", \"LastName\", \"FirstNames\"], axis=1)), columns=['Pclass', 'Age', 'SibSp', 'Parch', 'Fare'])\n",
    "train[['Pclass', 'Age', 'SibSp', 'Parch', 'Fare']] = imputed_data"
   ]
  },
  {
   "cell_type": "code",
   "execution_count": 686,
   "metadata": {},
   "outputs": [
    {
     "name": "stdout",
     "output_type": "stream",
     "text": [
      "Nombre de valeurs manquantes : 1\n"
     ]
    }
   ],
   "source": [
    "print(\"Nombre de valeurs manquantes : {}\".format(train[\"Age\"].isna().sum()))"
   ]
  },
  {
   "cell_type": "markdown",
   "metadata": {},
   "source": [
    "<div align='justify'>There is still one missing value in the ```Age``` column. This missing value belongs to a row in which more than half of the variables have no values either. This individual is therefore missing a lot of information. It is preferable to delete this observation.</div>"
   ]
  },
  {
   "cell_type": "code",
   "execution_count": 687,
   "metadata": {},
   "outputs": [],
   "source": [
    "train = train.dropna(subset=[\"Age\"])"
   ]
  },
  {
   "cell_type": "code",
   "execution_count": 688,
   "metadata": {},
   "outputs": [
    {
     "data": {
      "image/png": "[encoded data removed]",
      "text/plain": [
       "<Figure size 432x288 with 1 Axes>"
      ]
     },
     "metadata": {},
     "output_type": "display_data"
    }
   ],
   "source": [
    "x_axis = np.arange(0, 80, 0.001)\n",
    "plt.plot(x_axis, norm.pdf(x_axis,train[\"Age\"].mean(),train[\"Age\"].std()), \"red\", label=\"Normal distribution\")\n",
    "plt.hist(train[\"Age\"], 30, density=True, facecolor='blue', alpha=0.75, label = \"Age distribution\")\n",
    "plt.title(\"Distribution of the age of passengers\", fontweight=\"bold\")\n",
    "plt.legend();"
   ]
  },
  {
   "cell_type": "markdown",
   "metadata": {},
   "source": [
    "<div align=\"justify\">By using kNN imputation, the distribution of the Age variable is closer to that of a normal distribution than when imputed by the median or mean age. This reduces the bias in the data set.  </div>"
   ]
  },
  {
   "cell_type": "markdown",
   "metadata": {},
   "source": [
    "<li> <i><b>SibSp</b></i>  \n",
    "        <div align='justify'>The number of siblings / spouses aboard the Titanic. </div>"
   ]
  },
  {
   "cell_type": "code",
   "execution_count": 689,
   "metadata": {},
   "outputs": [
    {
     "data": {
      "image/png": "[encoded data removed]",
      "text/plain": [
       "<Figure size 432x288 with 1 Axes>"
      ]
     },
     "metadata": {},
     "output_type": "display_data"
    }
   ],
   "source": [
    "plt.bar(train[\"SibSp\"].value_counts().keys(), train[\"SibSp\"].value_counts(), facecolor='blue');"
   ]
  },
  {
   "cell_type": "markdown",
   "metadata": {},
   "source": [
    "As can be seen, the majority of those on board were alone, without family members."
   ]
  },
  {
   "cell_type": "markdown",
   "metadata": {},
   "source": [
    "<li> <i><b>Parch</b></i>  \n",
    "        <div align='justify'>The number of parents / children aboard the Titanic.</div>"
   ]
  },
  {
   "cell_type": "code",
   "execution_count": 690,
   "metadata": {},
   "outputs": [
    {
     "data": {
      "image/png": "[encoded data removed]",
      "text/plain": [
       "<Figure size 432x288 with 1 Axes>"
      ]
     },
     "metadata": {},
     "output_type": "display_data"
    }
   ],
   "source": [
    "plt.bar(train[\"Parch\"].value_counts().keys(), train[\"Parch\"].value_counts(), facecolor='blue');"
   ]
  },
  {
   "cell_type": "markdown",
   "metadata": {},
   "source": [
    "Similarly, most people had no parents or children on board."
   ]
  },
  {
   "cell_type": "markdown",
   "metadata": {},
   "source": [
    "<li> <i><b>Ticket</b></i>  \n",
    "        <div align='justify'>The ticket number. This variable is difficult to process because we don't have any ticket information. We do not know their coding. We can simply see that some tickets are assigned to several people, as if it were for example a ticket for a cabin. Some tickets have letters on them, others do not. We need to identify the patterns. </div>"
   ]
  },
  {
   "cell_type": "code",
   "execution_count": 691,
   "metadata": {},
   "outputs": [
    {
     "name": "stdout",
     "output_type": "stream",
     "text": [
      "Number of tickets of type 6-DIGITS : 438\n"
     ]
    }
   ],
   "source": [
    "print(\"Number of tickets of type 6-DIGITS : {}\".format(train[\"Ticket\"].str.match(pat = '^(?=(\\D*\\d){6}\\D*$)').sum()))"
   ]
  },
  {
   "cell_type": "code",
   "execution_count": 692,
   "metadata": {},
   "outputs": [
    {
     "name": "stdout",
     "output_type": "stream",
     "text": [
      "Number of tickets of type 4-DIGITS : 154\n"
     ]
    }
   ],
   "source": [
    "print(\"Number of tickets of type 4-DIGITS : {}\".format(train[\"Ticket\"].str.match(pat = '^(?=(\\D*\\d){4}\\D*$)').sum()))"
   ]
  },
  {
   "cell_type": "markdown",
   "metadata": {},
   "source": [
    "<li> <i><b>Fare</b></i>  \n",
    "        <div align='justify'>The fare of the ticket. This is a quantitative variable. The average fare of a ticket is 32.20 dollars and it spreads from 0 dollar (free ticket) to 512.32 dollars (probably for the most luxurious cabins).</div>"
   ]
  },
  {
   "cell_type": "code",
   "execution_count": 693,
   "metadata": {},
   "outputs": [
    {
     "data": {
      "image/png": "[encoded data removed]",
      "text/plain": [
       "<Figure size 432x288 with 1 Axes>"
      ]
     },
     "metadata": {},
     "output_type": "display_data"
    }
   ],
   "source": [
    "plt.hist(train[\"Fare\"], 50, density=True, facecolor='blue', alpha=0.75, label=\"Distribution of fare\")\n",
    "plt.title(\"Distribution of the fare of tickets\", fontweight=\"bold\");"
   ]
  },
  {
   "cell_type": "markdown",
   "metadata": {},
   "source": [
    "The distribution is a little off. For the moment we don't transform the variable but it may be wise to do it to try. "
   ]
  },
  {
   "cell_type": "markdown",
   "metadata": {},
   "source": [
    "<li> <i><b>Cabin</b></i>  \n",
    "        <div align='justify'>The number of the cabin if the person owns one. We will fill the missing values by \"None\" for people who don't own a cabin on board.</div>"
   ]
  },
  {
   "cell_type": "code",
   "execution_count": 694,
   "metadata": {},
   "outputs": [],
   "source": [
    "train[\"Cabin\"] = train[\"Cabin\"].fillna(\"None\")"
   ]
  },
  {
   "cell_type": "code",
   "execution_count": 695,
   "metadata": {},
   "outputs": [
    {
     "data": {
      "image/png": "[encoded data removed]",
      "text/plain": [
       "<Figure size 432x288 with 1 Axes>"
      ]
     },
     "metadata": {},
     "output_type": "display_data"
    }
   ],
   "source": [
    "plt.hist(train[\"Cabin\"].value_counts(), bins=20, facecolor='blue');"
   ]
  },
  {
   "cell_type": "markdown",
   "metadata": {},
   "source": [
    "Most of the people doesn't have a cabin. We can transform this variable into a boolean : 1 for people with a cabin, 0 for people who doesn't have a cabin. We can also transform the variable into 2 variables : one for the number of cabin rented and one for the class of the cabin."
   ]
  },
  {
   "cell_type": "code",
   "execution_count": 696,
   "metadata": {},
   "outputs": [],
   "source": [
    "# Création d'une variable booléenne qui permet de savoir si la personne a une cabine ou pas\n",
    "train[\"CabinYesNo\"] = np.where(train[\"Cabin\"]=='None', 0, 1)\n",
    "\n",
    "# Création de la variable NbCabin qui correspond au nombre de cabine que la famille a loué\n",
    "train[\"NbCabin\"] = np.where(train[\"Cabin\"]==\"None\", 0, train[\"Cabin\"].str.split().str.len())\n",
    "\n",
    "# Création de la variable ClassCabin qui correspond à la classe de la cabine\n",
    "train[\"ClassCabin\"] = np.where(train[\"Cabin\"]==\"None\", \"None\", train[\"Cabin\"].astype(str).str[0])\n",
    "\n",
    "# Regroupement des catégories sous représentées\n",
    "train[\"ClassCabin\"] = np.where(train['ClassCabin'].isin([\"G\", \"T\", \"F\", \"A\"]), \"Other\", train[\"ClassCabin\"])"
   ]
  },
  {
   "cell_type": "code",
   "execution_count": 697,
   "metadata": {},
   "outputs": [
    {
     "data": {
      "text/plain": [
       "None     686\n",
       "C         59\n",
       "B         47\n",
       "Other     33\n",
       "D         33\n",
       "E         32\n",
       "Name: ClassCabin, dtype: int64"
      ]
     },
     "execution_count": 697,
     "metadata": {},
     "output_type": "execute_result"
    }
   ],
   "source": [
    "train[\"ClassCabin\"].value_counts()"
   ]
  },
  {
   "cell_type": "markdown",
   "metadata": {},
   "source": [
    "<li> <i><b>Embarked</b></i>  \n",
    "        <div align='justify'>The port of embarkation. There are some missing values to deal with in this variable.</div>"
   ]
  },
  {
   "cell_type": "code",
   "execution_count": 698,
   "metadata": {},
   "outputs": [
    {
     "name": "stdout",
     "output_type": "stream",
     "text": [
      "Number of missing values : 2\n"
     ]
    }
   ],
   "source": [
    "print(\"Number of missing values : {}\".format(train[\"Embarked\"].isna().sum()))"
   ]
  },
  {
   "cell_type": "code",
   "execution_count": 699,
   "metadata": {},
   "outputs": [],
   "source": [
    "# Missing values imputation by backfill\n",
    "train[\"Embarked\"] = train[\"Embarked\"].fillna(method=\"backfill\")"
   ]
  },
  {
   "cell_type": "code",
   "execution_count": 700,
   "metadata": {},
   "outputs": [
    {
     "data": {
      "image/png": "[encoded data removed]",
      "text/plain": [
       "<Figure size 432x288 with 1 Axes>"
      ]
     },
     "metadata": {},
     "output_type": "display_data"
    }
   ],
   "source": [
    "fig, ax = plt.subplots()\n",
    "ax.pie(train[\"Embarked\"].value_counts(), labels=train[\"Embarked\"].unique(), autopct='%1.1f%%',\n",
    "        shadow=True, startangle=90)\n",
    "plt.title(\"Embarked\", fontweight=\"bold\")\n",
    "ax.axis('equal');"
   ]
  },
  {
   "cell_type": "markdown",
   "metadata": {},
   "source": [
    "As you can see, the vast majority of people boarded at Southampton."
   ]
  },
  {
   "cell_type": "markdown",
   "metadata": {},
   "source": [
    "The final dataset looks like this:"
   ]
  },
  {
   "cell_type": "code",
   "execution_count": 701,
   "metadata": {},
   "outputs": [
    {
     "data": {
      "text/html": [
       "<div>\n",
       "<style scoped>\n",
       "    .dataframe tbody tr th:only-of-type {\n",
       "        vertical-align: middle;\n",
       "    }\n",
       "\n",
       "    .dataframe tbody tr th {\n",
       "        vertical-align: top;\n",
       "    }\n",
       "\n",
       "    .dataframe thead th {\n",
       "        text-align: right;\n",
       "    }\n",
       "</style>\n",
       "<table border=\"1\" class=\"dataframe\">\n",
       "  <thead>\n",
       "    <tr style=\"text-align: right;\">\n",
       "      <th></th>\n",
       "      <th>Survived</th>\n",
       "      <th>Pclass</th>\n",
       "      <th>Sex</th>\n",
       "      <th>Age</th>\n",
       "      <th>SibSp</th>\n",
       "      <th>Parch</th>\n",
       "      <th>Ticket</th>\n",
       "      <th>Fare</th>\n",
       "      <th>Cabin</th>\n",
       "      <th>Embarked</th>\n",
       "      <th>Title</th>\n",
       "      <th>LastName</th>\n",
       "      <th>FirstNames</th>\n",
       "      <th>CabinYesNo</th>\n",
       "      <th>NbCabin</th>\n",
       "      <th>ClassCabin</th>\n",
       "    </tr>\n",
       "    <tr>\n",
       "      <th>PassengerId</th>\n",
       "      <th></th>\n",
       "      <th></th>\n",
       "      <th></th>\n",
       "      <th></th>\n",
       "      <th></th>\n",
       "      <th></th>\n",
       "      <th></th>\n",
       "      <th></th>\n",
       "      <th></th>\n",
       "      <th></th>\n",
       "      <th></th>\n",
       "      <th></th>\n",
       "      <th></th>\n",
       "      <th></th>\n",
       "      <th></th>\n",
       "      <th></th>\n",
       "    </tr>\n",
       "  </thead>\n",
       "  <tbody>\n",
       "    <tr>\n",
       "      <th>1</th>\n",
       "      <td>0</td>\n",
       "      <td>1.0</td>\n",
       "      <td>male</td>\n",
       "      <td>38.0</td>\n",
       "      <td>1.0</td>\n",
       "      <td>0.0</td>\n",
       "      <td>A/5 21171</td>\n",
       "      <td>71.2833</td>\n",
       "      <td>None</td>\n",
       "      <td>S</td>\n",
       "      <td>Mr.</td>\n",
       "      <td>Braund</td>\n",
       "      <td>Owen Harris</td>\n",
       "      <td>0</td>\n",
       "      <td>0</td>\n",
       "      <td>None</td>\n",
       "    </tr>\n",
       "    <tr>\n",
       "      <th>2</th>\n",
       "      <td>1</td>\n",
       "      <td>3.0</td>\n",
       "      <td>female</td>\n",
       "      <td>26.0</td>\n",
       "      <td>0.0</td>\n",
       "      <td>0.0</td>\n",
       "      <td>PC 17599</td>\n",
       "      <td>7.9250</td>\n",
       "      <td>C85</td>\n",
       "      <td>C</td>\n",
       "      <td>Mrs.</td>\n",
       "      <td>Cumings</td>\n",
       "      <td>John Bradley (Florence Briggs Thayer)</td>\n",
       "      <td>1</td>\n",
       "      <td>1</td>\n",
       "      <td>C</td>\n",
       "    </tr>\n",
       "    <tr>\n",
       "      <th>3</th>\n",
       "      <td>1</td>\n",
       "      <td>1.0</td>\n",
       "      <td>female</td>\n",
       "      <td>35.0</td>\n",
       "      <td>1.0</td>\n",
       "      <td>0.0</td>\n",
       "      <td>STON/O2. 3101282</td>\n",
       "      <td>53.1000</td>\n",
       "      <td>None</td>\n",
       "      <td>S</td>\n",
       "      <td>Miss.</td>\n",
       "      <td>Heikkinen</td>\n",
       "      <td>Laina</td>\n",
       "      <td>0</td>\n",
       "      <td>0</td>\n",
       "      <td>None</td>\n",
       "    </tr>\n",
       "    <tr>\n",
       "      <th>4</th>\n",
       "      <td>1</td>\n",
       "      <td>3.0</td>\n",
       "      <td>female</td>\n",
       "      <td>35.0</td>\n",
       "      <td>0.0</td>\n",
       "      <td>0.0</td>\n",
       "      <td>113803</td>\n",
       "      <td>8.0500</td>\n",
       "      <td>C123</td>\n",
       "      <td>S</td>\n",
       "      <td>Mrs.</td>\n",
       "      <td>Futrelle</td>\n",
       "      <td>Jacques Heath (Lily May Peel)</td>\n",
       "      <td>1</td>\n",
       "      <td>1</td>\n",
       "      <td>C</td>\n",
       "    </tr>\n",
       "    <tr>\n",
       "      <th>5</th>\n",
       "      <td>0</td>\n",
       "      <td>3.0</td>\n",
       "      <td>male</td>\n",
       "      <td>26.0</td>\n",
       "      <td>0.0</td>\n",
       "      <td>0.0</td>\n",
       "      <td>373450</td>\n",
       "      <td>8.4583</td>\n",
       "      <td>None</td>\n",
       "      <td>S</td>\n",
       "      <td>Mr.</td>\n",
       "      <td>Allen</td>\n",
       "      <td>William Henry</td>\n",
       "      <td>0</td>\n",
       "      <td>0</td>\n",
       "      <td>None</td>\n",
       "    </tr>\n",
       "  </tbody>\n",
       "</table>\n",
       "</div>"
      ],
      "text/plain": [
       "             Survived  Pclass     Sex   Age  SibSp  Parch            Ticket  \\\n",
       "PassengerId                                                                   \n",
       "1                   0     1.0    male  38.0    1.0    0.0         A/5 21171   \n",
       "2                   1     3.0  female  26.0    0.0    0.0          PC 17599   \n",
       "3                   1     1.0  female  35.0    1.0    0.0  STON/O2. 3101282   \n",
       "4                   1     3.0  female  35.0    0.0    0.0            113803   \n",
       "5                   0     3.0    male  26.0    0.0    0.0            373450   \n",
       "\n",
       "                Fare Cabin Embarked  Title   LastName  \\\n",
       "PassengerId                                             \n",
       "1            71.2833  None        S    Mr.     Braund   \n",
       "2             7.9250   C85        C   Mrs.    Cumings   \n",
       "3            53.1000  None        S  Miss.  Heikkinen   \n",
       "4             8.0500  C123        S   Mrs.   Futrelle   \n",
       "5             8.4583  None        S    Mr.      Allen   \n",
       "\n",
       "                                        FirstNames  CabinYesNo  NbCabin  \\\n",
       "PassengerId                                                               \n",
       "1                                      Owen Harris           0        0   \n",
       "2            John Bradley (Florence Briggs Thayer)           1        1   \n",
       "3                                            Laina           0        0   \n",
       "4                    Jacques Heath (Lily May Peel)           1        1   \n",
       "5                                    William Henry           0        0   \n",
       "\n",
       "            ClassCabin  \n",
       "PassengerId             \n",
       "1                 None  \n",
       "2                    C  \n",
       "3                 None  \n",
       "4                    C  \n",
       "5                 None  "
      ]
     },
     "execution_count": 701,
     "metadata": {},
     "output_type": "execute_result"
    }
   ],
   "source": [
    "train.head()"
   ]
  },
  {
   "cell_type": "markdown",
   "metadata": {},
   "source": [
    "To build our models, we will use the following variables :"
   ]
  },
  {
   "cell_type": "code",
   "execution_count": 702,
   "metadata": {},
   "outputs": [],
   "source": [
    "features = [\"Pclass\", \"Sex\", \"Age\", \"SibSp\", \"Parch\", \"Fare\", \"Embarked\", \"Title\", \"CabinYesNo\", \"ClassCabin\"]"
   ]
  },
  {
   "cell_type": "code",
   "execution_count": 703,
   "metadata": {},
   "outputs": [],
   "source": [
    "train_X = train[features]\n",
    "train_y = train[\"Survived\"]"
   ]
  },
  {
   "cell_type": "markdown",
   "metadata": {},
   "source": [
    "<h3>3. <b>Modeling: how to predict the survival of passengers?</b></h3>"
   ]
  },
  {
   "cell_type": "markdown",
   "metadata": {},
   "source": [
    "<div align='justify'>In this part, we will use several modeling methods :   \n",
    "We will test several classifiers (<b>Logistic regression, Random Forests, SVM, Adaboost, Gradient boosting, XGBoost</b>) by recalling some elements of theory, and we will compare them by cross-validation. We will then be able to understand why an individual survived."
   ]
  },
  {
   "cell_type": "code",
   "execution_count": 704,
   "metadata": {},
   "outputs": [],
   "source": [
    "from sklearn.preprocessing import StandardScaler\n",
    "from sklearn.model_selection import GridSearchCV, cross_val_score, KFold\n",
    "from sklearn.linear_model import LogisticRegression\n",
    "from sklearn.ensemble import RandomForestClassifier\n",
    "from sklearn.svm import SVC\n",
    "from sklearn.ensemble import AdaBoostClassifier, GradientBoostingClassifier\n",
    "import xgboost as xgb"
   ]
  },
  {
   "cell_type": "code",
   "execution_count": 705,
   "metadata": {},
   "outputs": [],
   "source": [
    "import warnings\n",
    "warnings.filterwarnings(\"ignore\")"
   ]
  },
  {
   "cell_type": "markdown",
   "metadata": {},
   "source": [
    "<div align='justify'>Before perform modeling on our dataset, we need to transform some features into numerical features as there are categorical variables that sometimes cannot be handled by machine learning algorithm.</div>"
   ]
  },
  {
   "cell_type": "code",
   "execution_count": 706,
   "metadata": {},
   "outputs": [],
   "source": [
    "train_X = pd.get_dummies(train_X, columns=[\"Pclass\", \"Sex\", \"Embarked\", \"Title\", \"ClassCabin\"])"
   ]
  },
  {
   "cell_type": "code",
   "execution_count": 707,
   "metadata": {},
   "outputs": [],
   "source": [
    "scaler = StandardScaler()\n",
    "train_X[[\"Age\", \"SibSp\", \"Parch\", \"Fare\"]] = scaler.fit_transform(train_X[[\"Age\", \"SibSp\", \"Parch\", \"Fare\"]]) "
   ]
  },
  {
   "cell_type": "code",
   "execution_count": 708,
   "metadata": {},
   "outputs": [
    {
     "data": {
      "text/html": [
       "<div>\n",
       "<style scoped>\n",
       "    .dataframe tbody tr th:only-of-type {\n",
       "        vertical-align: middle;\n",
       "    }\n",
       "\n",
       "    .dataframe tbody tr th {\n",
       "        vertical-align: top;\n",
       "    }\n",
       "\n",
       "    .dataframe thead th {\n",
       "        text-align: right;\n",
       "    }\n",
       "</style>\n",
       "<table border=\"1\" class=\"dataframe\">\n",
       "  <thead>\n",
       "    <tr style=\"text-align: right;\">\n",
       "      <th></th>\n",
       "      <th>Age</th>\n",
       "      <th>SibSp</th>\n",
       "      <th>Parch</th>\n",
       "      <th>Fare</th>\n",
       "      <th>CabinYesNo</th>\n",
       "      <th>Pclass_1.0</th>\n",
       "      <th>Pclass_2.0</th>\n",
       "      <th>Pclass_3.0</th>\n",
       "      <th>Sex_female</th>\n",
       "      <th>Sex_male</th>\n",
       "      <th>...</th>\n",
       "      <th>Title_Mr.</th>\n",
       "      <th>Title_Mrs.</th>\n",
       "      <th>Title_None</th>\n",
       "      <th>Title_Other</th>\n",
       "      <th>ClassCabin_B</th>\n",
       "      <th>ClassCabin_C</th>\n",
       "      <th>ClassCabin_D</th>\n",
       "      <th>ClassCabin_E</th>\n",
       "      <th>ClassCabin_None</th>\n",
       "      <th>ClassCabin_Other</th>\n",
       "    </tr>\n",
       "    <tr>\n",
       "      <th>PassengerId</th>\n",
       "      <th></th>\n",
       "      <th></th>\n",
       "      <th></th>\n",
       "      <th></th>\n",
       "      <th></th>\n",
       "      <th></th>\n",
       "      <th></th>\n",
       "      <th></th>\n",
       "      <th></th>\n",
       "      <th></th>\n",
       "      <th></th>\n",
       "      <th></th>\n",
       "      <th></th>\n",
       "      <th></th>\n",
       "      <th></th>\n",
       "      <th></th>\n",
       "      <th></th>\n",
       "      <th></th>\n",
       "      <th></th>\n",
       "      <th></th>\n",
       "      <th></th>\n",
       "    </tr>\n",
       "  </thead>\n",
       "  <tbody>\n",
       "    <tr>\n",
       "      <th>1</th>\n",
       "      <td>0.608052</td>\n",
       "      <td>0.433082</td>\n",
       "      <td>-0.473999</td>\n",
       "      <td>0.785951</td>\n",
       "      <td>0</td>\n",
       "      <td>1</td>\n",
       "      <td>0</td>\n",
       "      <td>0</td>\n",
       "      <td>0</td>\n",
       "      <td>1</td>\n",
       "      <td>...</td>\n",
       "      <td>1</td>\n",
       "      <td>0</td>\n",
       "      <td>0</td>\n",
       "      <td>0</td>\n",
       "      <td>0</td>\n",
       "      <td>0</td>\n",
       "      <td>0</td>\n",
       "      <td>0</td>\n",
       "      <td>1</td>\n",
       "      <td>0</td>\n",
       "    </tr>\n",
       "    <tr>\n",
       "      <th>2</th>\n",
       "      <td>-0.289638</td>\n",
       "      <td>-0.473843</td>\n",
       "      <td>-0.473999</td>\n",
       "      <td>-0.489213</td>\n",
       "      <td>1</td>\n",
       "      <td>0</td>\n",
       "      <td>0</td>\n",
       "      <td>1</td>\n",
       "      <td>1</td>\n",
       "      <td>0</td>\n",
       "      <td>...</td>\n",
       "      <td>0</td>\n",
       "      <td>1</td>\n",
       "      <td>0</td>\n",
       "      <td>0</td>\n",
       "      <td>0</td>\n",
       "      <td>1</td>\n",
       "      <td>0</td>\n",
       "      <td>0</td>\n",
       "      <td>0</td>\n",
       "      <td>0</td>\n",
       "    </tr>\n",
       "    <tr>\n",
       "      <th>3</th>\n",
       "      <td>0.383629</td>\n",
       "      <td>0.433082</td>\n",
       "      <td>-0.473999</td>\n",
       "      <td>0.419989</td>\n",
       "      <td>0</td>\n",
       "      <td>1</td>\n",
       "      <td>0</td>\n",
       "      <td>0</td>\n",
       "      <td>1</td>\n",
       "      <td>0</td>\n",
       "      <td>...</td>\n",
       "      <td>0</td>\n",
       "      <td>0</td>\n",
       "      <td>0</td>\n",
       "      <td>0</td>\n",
       "      <td>0</td>\n",
       "      <td>0</td>\n",
       "      <td>0</td>\n",
       "      <td>0</td>\n",
       "      <td>1</td>\n",
       "      <td>0</td>\n",
       "    </tr>\n",
       "    <tr>\n",
       "      <th>4</th>\n",
       "      <td>0.383629</td>\n",
       "      <td>-0.473843</td>\n",
       "      <td>-0.473999</td>\n",
       "      <td>-0.486698</td>\n",
       "      <td>1</td>\n",
       "      <td>0</td>\n",
       "      <td>0</td>\n",
       "      <td>1</td>\n",
       "      <td>1</td>\n",
       "      <td>0</td>\n",
       "      <td>...</td>\n",
       "      <td>0</td>\n",
       "      <td>1</td>\n",
       "      <td>0</td>\n",
       "      <td>0</td>\n",
       "      <td>0</td>\n",
       "      <td>1</td>\n",
       "      <td>0</td>\n",
       "      <td>0</td>\n",
       "      <td>0</td>\n",
       "      <td>0</td>\n",
       "    </tr>\n",
       "    <tr>\n",
       "      <th>5</th>\n",
       "      <td>-0.289638</td>\n",
       "      <td>-0.473843</td>\n",
       "      <td>-0.473999</td>\n",
       "      <td>-0.478480</td>\n",
       "      <td>0</td>\n",
       "      <td>0</td>\n",
       "      <td>0</td>\n",
       "      <td>1</td>\n",
       "      <td>0</td>\n",
       "      <td>1</td>\n",
       "      <td>...</td>\n",
       "      <td>1</td>\n",
       "      <td>0</td>\n",
       "      <td>0</td>\n",
       "      <td>0</td>\n",
       "      <td>0</td>\n",
       "      <td>0</td>\n",
       "      <td>0</td>\n",
       "      <td>0</td>\n",
       "      <td>1</td>\n",
       "      <td>0</td>\n",
       "    </tr>\n",
       "  </tbody>\n",
       "</table>\n",
       "<p>5 rows × 25 columns</p>\n",
       "</div>"
      ],
      "text/plain": [
       "                  Age     SibSp     Parch      Fare  CabinYesNo  Pclass_1.0  \\\n",
       "PassengerId                                                                   \n",
       "1            0.608052  0.433082 -0.473999  0.785951           0           1   \n",
       "2           -0.289638 -0.473843 -0.473999 -0.489213           1           0   \n",
       "3            0.383629  0.433082 -0.473999  0.419989           0           1   \n",
       "4            0.383629 -0.473843 -0.473999 -0.486698           1           0   \n",
       "5           -0.289638 -0.473843 -0.473999 -0.478480           0           0   \n",
       "\n",
       "             Pclass_2.0  Pclass_3.0  Sex_female  Sex_male  ...  Title_Mr.  \\\n",
       "PassengerId                                                ...              \n",
       "1                     0           0           0         1  ...          1   \n",
       "2                     0           1           1         0  ...          0   \n",
       "3                     0           0           1         0  ...          0   \n",
       "4                     0           1           1         0  ...          0   \n",
       "5                     0           1           0         1  ...          1   \n",
       "\n",
       "             Title_Mrs.  Title_None  Title_Other  ClassCabin_B  ClassCabin_C  \\\n",
       "PassengerId                                                                    \n",
       "1                     0           0            0             0             0   \n",
       "2                     1           0            0             0             1   \n",
       "3                     0           0            0             0             0   \n",
       "4                     1           0            0             0             1   \n",
       "5                     0           0            0             0             0   \n",
       "\n",
       "             ClassCabin_D  ClassCabin_E  ClassCabin_None  ClassCabin_Other  \n",
       "PassengerId                                                                 \n",
       "1                       0             0                1                 0  \n",
       "2                       0             0                0                 0  \n",
       "3                       0             0                1                 0  \n",
       "4                       0             0                0                 0  \n",
       "5                       0             0                1                 0  \n",
       "\n",
       "[5 rows x 25 columns]"
      ]
     },
     "execution_count": 708,
     "metadata": {},
     "output_type": "execute_result"
    }
   ],
   "source": [
    "train_X.head()"
   ]
  },
  {
   "cell_type": "markdown",
   "metadata": {},
   "source": [
    "<b><font size=\"4pt\">Logistic regression</font></b>"
   ]
  },
  {
   "cell_type": "markdown",
   "metadata": {},
   "source": [
    "<div align='justify'>It’s a classification algorithm, that is used where the response variable is categorical. The idea of Logistic Regression is to find a relationship between features and probability of particular outcome.  \n",
    "<p>E.g. Here, we want to predict the probability of survival of a passenger when several information are given as features. The probability that the Survived variable is 1 given its inputs can be represented as: $$P(Survived=1 | X)$$ where X are the features.</p>  \n",
    "<p>But as we want to express this probability a linear function of the features, we need to apply a logit transformation on the probability because this function lies between 0 and 1, and has less effect on outliers:  $$log(\\frac{p(X)}{1-p(X)})=\\beta_0 + \\beta_1 X$$</p>  \n",
    "    <p>The odds $\\frac{p(X)}{1-p(X)}$ is the probability of success to probability of failure.</p>\n",
    "<p>We can get the desired probability by taking the inverse of the logit function called the sigmoid function : $$P(X)=\\frac{e^{\\beta_0 + \\beta_1 X}}{1+e^{\\beta_0 + \\beta_1 X}}$$</p>\n",
    "<p>To estimate the regression coefficients, the Maximum Likelihood Estimation is used : $$\\mathcal{L}(\\beta,y)=\\prod_{k=1}^n (\\frac{\\pi_k}{1-\\pi_k})^{y_k}(1-\\pi_k)\n",
    "$$</p>\n",
    "<p>To determine the value of parameters, we take the log of the likelihood function, since it does not change the properties of the function.\n",
    "The log-likelihood is differentiated and using iterative techniques like Newton method, values of parameters that maximise the log-likelihood are determined.</p>\n",
    "\n",
    "<p>[References] : https://medium.com/data-science-group-iitr/logistic-regression-simplified-9b4efe801389</p></div>"
   ]
  },
  {
   "cell_type": "code",
   "execution_count": 726,
   "metadata": {},
   "outputs": [
    {
     "data": {
      "text/plain": [
       "0.8157303370786517"
      ]
     },
     "execution_count": 726,
     "metadata": {},
     "output_type": "execute_result"
    }
   ],
   "source": [
    "# Perform a Logistic Regression with sklearn\n",
    "# The class LogisticRegression() implements regularized logistic regression using the ‘liblinear’ library,\n",
    "# ‘newton-cg’, ‘sag’, ‘saga’ and ‘lbfgs’ solvers.\n",
    "from sklearn.linear_model import LogisticRegressionCV\n",
    "clf_logreg = LogisticRegressionCV(cv=10, random_state=0, max_iter=500).fit(train_X, train_y)\n",
    "clf_logreg.score(train_X, train_y)"
   ]
  },
  {
   "cell_type": "markdown",
   "metadata": {},
   "source": [
    "<b><font size=\"4pt\">Random Forests</font></b>"
   ]
  },
  {
   "cell_type": "code",
   "execution_count": 710,
   "metadata": {},
   "outputs": [],
   "source": [
    "rfc = RandomForestClassifier(max_features='sqrt', n_estimators=50)\n",
    "param_grid = {\n",
    "    'n_estimators': [50, 150, 250],\n",
    "    'max_features': ['sqrt', 0.25, 0.5, 0.75, 1.0],\n",
    "    'min_samples_split': [2, 4, 6]\n",
    "}\n",
    "CV_rfc = GridSearchCV(estimator=rfc, param_grid=param_grid, cv=10)\n",
    "CV_rfc.fit(train_X, train_y);"
   ]
  },
  {
   "cell_type": "code",
   "execution_count": 711,
   "metadata": {},
   "outputs": [
    {
     "data": {
      "text/plain": [
       "0.9314606741573034"
      ]
     },
     "execution_count": 711,
     "metadata": {},
     "output_type": "execute_result"
    }
   ],
   "source": [
    "CV_rfc.score(train_X, train_y)"
   ]
  },
  {
   "cell_type": "code",
   "execution_count": 712,
   "metadata": {},
   "outputs": [
    {
     "data": {
      "text/plain": [
       "{'max_features': 0.5, 'min_samples_split': 6, 'n_estimators': 50}"
      ]
     },
     "execution_count": 712,
     "metadata": {},
     "output_type": "execute_result"
    }
   ],
   "source": [
    "CV_rfc.best_params_"
   ]
  },
  {
   "cell_type": "markdown",
   "metadata": {},
   "source": [
    "<b><font size=\"4pt\">SVM</font></b>"
   ]
  },
  {
   "cell_type": "code",
   "execution_count": 713,
   "metadata": {},
   "outputs": [],
   "source": [
    "clf_svc = SVC()\n",
    "param_grid = {\n",
    "    'kernel' : [\"linear\", \"rbf\"],\n",
    "    'C': [1, 10, 20],\n",
    "}\n",
    "CV_svc = GridSearchCV(estimator=clf_svc, param_grid=param_grid, cv=10)\n",
    "CV_svc.fit(train_X, train_y);"
   ]
  },
  {
   "cell_type": "code",
   "execution_count": 714,
   "metadata": {},
   "outputs": [
    {
     "data": {
      "text/plain": [
       "0.8393258426966292"
      ]
     },
     "execution_count": 714,
     "metadata": {},
     "output_type": "execute_result"
    }
   ],
   "source": [
    "CV_svc.score(train_X, train_y)"
   ]
  },
  {
   "cell_type": "code",
   "execution_count": 715,
   "metadata": {},
   "outputs": [
    {
     "data": {
      "text/plain": [
       "{'C': 10, 'kernel': 'rbf'}"
      ]
     },
     "execution_count": 715,
     "metadata": {},
     "output_type": "execute_result"
    }
   ],
   "source": [
    "CV_svc.best_params_"
   ]
  },
  {
   "cell_type": "markdown",
   "metadata": {},
   "source": [
    "<b><font size=\"4pt\">Adaboost</font></b>"
   ]
  },
  {
   "cell_type": "code",
   "execution_count": 716,
   "metadata": {},
   "outputs": [],
   "source": [
    "clf_ada = AdaBoostClassifier(n_estimators=100)\n",
    "param_grid = {\n",
    "    'n_estimators' : [50, 200, 500, 1000],\n",
    "}\n",
    "CV_ada = GridSearchCV(estimator=clf_ada, param_grid=param_grid, cv=10)\n",
    "CV_ada.fit(train_X, train_y);"
   ]
  },
  {
   "cell_type": "code",
   "execution_count": 717,
   "metadata": {},
   "outputs": [
    {
     "data": {
      "text/plain": [
       "0.8269662921348314"
      ]
     },
     "execution_count": 717,
     "metadata": {},
     "output_type": "execute_result"
    }
   ],
   "source": [
    "CV_ada.score(train_X, train_y)"
   ]
  },
  {
   "cell_type": "code",
   "execution_count": 718,
   "metadata": {},
   "outputs": [
    {
     "data": {
      "text/plain": [
       "{'n_estimators': 200}"
      ]
     },
     "execution_count": 718,
     "metadata": {},
     "output_type": "execute_result"
    }
   ],
   "source": [
    "CV_ada.best_params_"
   ]
  },
  {
   "cell_type": "markdown",
   "metadata": {},
   "source": [
    "<b><font size=\"4pt\">Gradient Boosting</font></b>"
   ]
  },
  {
   "cell_type": "code",
   "execution_count": 719,
   "metadata": {},
   "outputs": [],
   "source": [
    "clf_gdb = GradientBoostingClassifier()\n",
    "param_grid = {\n",
    "    'n_estimators' : [50, 200, 500],\n",
    "    'max_depth': [3, 5, 8],\n",
    "    'min_samples_leaf' : [1, 3, 6]\n",
    "}\n",
    "CV_gdb = GridSearchCV(estimator=clf_gdb, param_grid=param_grid, cv=10)\n",
    "CV_gdb.fit(train_X, train_y);"
   ]
  },
  {
   "cell_type": "code",
   "execution_count": 720,
   "metadata": {},
   "outputs": [
    {
     "data": {
      "text/plain": [
       "0.9134831460674158"
      ]
     },
     "execution_count": 720,
     "metadata": {},
     "output_type": "execute_result"
    }
   ],
   "source": [
    "CV_gdb.score(train_X, train_y)"
   ]
  },
  {
   "cell_type": "code",
   "execution_count": 721,
   "metadata": {},
   "outputs": [
    {
     "data": {
      "text/plain": [
       "{'max_depth': 5, 'min_samples_leaf': 1, 'n_estimators': 50}"
      ]
     },
     "execution_count": 721,
     "metadata": {},
     "output_type": "execute_result"
    }
   ],
   "source": [
    "CV_gdb.best_params_"
   ]
  },
  {
   "cell_type": "markdown",
   "metadata": {},
   "source": [
    "<b><font size=\"4pt\">XGBoost</font></b>"
   ]
  },
  {
   "cell_type": "code",
   "execution_count": 722,
   "metadata": {},
   "outputs": [],
   "source": [
    "clf_xgb = xgb.XGBClassifier()\n",
    "param_grid = {\n",
    "    'n_estimators' : [50, 200, 500, 1000],\n",
    "    'max_depth': [5, 10, 15],\n",
    "}\n",
    "CV_xgb = GridSearchCV(estimator=clf_xgb, param_grid=param_grid, cv=10)\n",
    "CV_xgb.fit(train_X, train_y);"
   ]
  },
  {
   "cell_type": "code",
   "execution_count": 723,
   "metadata": {},
   "outputs": [
    {
     "data": {
      "text/plain": [
       "0.8808988764044944"
      ]
     },
     "execution_count": 723,
     "metadata": {},
     "output_type": "execute_result"
    }
   ],
   "source": [
    "CV_xgb.score(train_X, train_y)"
   ]
  },
  {
   "cell_type": "code",
   "execution_count": 724,
   "metadata": {},
   "outputs": [
    {
     "data": {
      "text/plain": [
       "{'max_depth': 5, 'n_estimators': 50}"
      ]
     },
     "execution_count": 724,
     "metadata": {},
     "output_type": "execute_result"
    }
   ],
   "source": [
    "CV_xgb.best_params_"
   ]
  },
  {
   "cell_type": "markdown",
   "metadata": {},
   "source": [
    "<b><font size=\"4pt\">Comparison of the models</font></b>"
   ]
  },
  {
   "cell_type": "code",
   "execution_count": 733,
   "metadata": {},
   "outputs": [
    {
     "name": "stdout",
     "output_type": "stream",
     "text": [
      "LR: 0.783146 (0.027083)\n",
      "RF: 0.794382 (0.030586)\n",
      "SVM: 0.786517 (0.044093)\n",
      "Adaboost: 0.780899 (0.039326)\n",
      "GDB: 0.785393 (0.023272)\n",
      "XGB: 0.792135 (0.027176)\n"
     ]
    },
    {
     "data": {
      "image/png": "[encoded data removed]",
      "text/plain": [
       "<Figure size 432x288 with 1 Axes>"
      ]
     },
     "metadata": {},
     "output_type": "display_data"
    }
   ],
   "source": [
    "seed = 0\n",
    "\n",
    "# Models to test\n",
    "models = []\n",
    "models.append(('LR', clf_logreg))\n",
    "models.append(('RF', CV_rfc.best_estimator_))\n",
    "models.append(('SVM', CV_svc.best_estimator_))\n",
    "models.append(('Adaboost', CV_ada.best_estimator_))\n",
    "models.append(('GDB', CV_gdb.best_estimator_))\n",
    "models.append(('XGB', CV_xgb.best_estimator_))\n",
    "\n",
    "# Evaluation of each model\n",
    "results = []\n",
    "names = []\n",
    "scoring = 'accuracy'\n",
    "for name, model in models:\n",
    "    kfold = KFold(n_splits=10, random_state=seed)\n",
    "    cv_results = cross_val_score(model, train_X, train_y, cv=kfold, scoring=scoring)\n",
    "    results.append(cv_results)\n",
    "    names.append(name)\n",
    "    msg = \"%s: %f (%f)\" % (name, cv_results.mean(), cv_results.std())\n",
    "    print(msg)\n",
    "    \n",
    "# Plot the results of the comparison\n",
    "fig = plt.figure()\n",
    "fig.suptitle('Algorithm Comparison')\n",
    "ax = fig.add_subplot(111)\n",
    "plt.boxplot(results)\n",
    "ax.set_xticklabels(names)\n",
    "plt.show()"
   ]
  },
  {
   "cell_type": "code",
   "execution_count": 750,
   "metadata": {},
   "outputs": [
    {
     "data": {
      "text/plain": [
       "0.9224719101123595"
      ]
     },
     "execution_count": 750,
     "metadata": {},
     "output_type": "execute_result"
    }
   ],
   "source": [
    "final_classifier = CV_rfc.best_estimator_\n",
    "final_classifier.fit(train_X, train_y)\n",
    "final_classifier.score(train_X, train_y)"
   ]
  },
  {
   "cell_type": "code",
   "execution_count": 756,
   "metadata": {},
   "outputs": [
    {
     "data": {
      "text/plain": [
       "array([ 0,  9,  3,  8, 15, 23,  1,  4, 13,  2,  6, 12, 10, 16, 11,  7,  5,\n",
       "       17, 24, 22, 14, 20, 19, 18, 21])"
      ]
     },
     "execution_count": 756,
     "metadata": {},
     "output_type": "execute_result"
    }
   ],
   "source": [
    "importances = final_classifier.feature_importances_\n",
    "std = np.std([tree.feature_importances_ for tree in final_classifier.estimators_],\n",
    "             axis=0)\n",
    "indices = np.argsort(importances)[::-1]\n",
    "indices"
   ]
  },
  {
   "cell_type": "code",
   "execution_count": 759,
   "metadata": {},
   "outputs": [
    {
     "data": {
      "text/plain": [
       "Index(['Age', 'Sex_male', 'Fare', 'Sex_female', 'Title_Mr.', 'ClassCabin_None',\n",
       "       'SibSp', 'CabinYesNo', 'Title_Master.', 'Parch', 'Pclass_2.0',\n",
       "       'Embarked_S', 'Embarked_C', 'Title_Mrs.', 'Embarked_Q', 'Pclass_3.0',\n",
       "       'Pclass_1.0', 'Title_None', 'ClassCabin_Other', 'ClassCabin_E',\n",
       "       'Title_Miss.', 'ClassCabin_C', 'ClassCabin_B', 'Title_Other',\n",
       "       'ClassCabin_D'],\n",
       "      dtype='object')"
      ]
     },
     "execution_count": 759,
     "metadata": {},
     "output_type": "execute_result"
    }
   ],
   "source": [
    "train_X.columns[indices]"
   ]
  },
  {
   "cell_type": "code",
   "execution_count": 766,
   "metadata": {},
   "outputs": [
    {
     "data": {
      "image/png": "[encoded data removed]",
      "text/plain": [
       "<Figure size 1080x432 with 1 Axes>"
      ]
     },
     "metadata": {},
     "output_type": "display_data"
    }
   ],
   "source": [
    "# Plot the feature importances of the forest\n",
    "plt.figure(figsize=(15,6))\n",
    "plt.title(\"Feature importances\", fontsize=14, fontweight=\"bold\")\n",
    "plt.bar(range(train_X.shape[1]), importances[indices],\n",
    "       color=\"r\", yerr=std[indices], align=\"center\")\n",
    "plt.xticks(range(train_X.shape[1]), train_X.columns[indices], rotation=50)\n",
    "plt.xlim([-1, train_X.shape[1]])\n",
    "plt.show()"
   ]
  },
  {
   "cell_type": "markdown",
   "metadata": {},
   "source": [
    "<b><font size=\"4pt\">3. Test predictive power</font></b>"
   ]
  },
  {
   "cell_type": "code",
   "execution_count": 741,
   "metadata": {},
   "outputs": [],
   "source": [
    "test = pd.read_csv(\"data/test.csv\")"
   ]
  },
  {
   "cell_type": "code",
   "execution_count": 742,
   "metadata": {},
   "outputs": [],
   "source": [
    "test = test.set_index('PassengerId')"
   ]
  },
  {
   "cell_type": "code",
   "execution_count": 743,
   "metadata": {},
   "outputs": [],
   "source": [
    "# Preprocessing sur les données test \n",
    "# -- Name processing\n",
    "test['Title'] = [x.split(' ')[1] for x in test['Name']]\n",
    "test[\"Title\"] = test[\"Title\"].apply(lambda x: x if x.endswith('.') else \"None\")\n",
    "test['LastName'] = [x.split(',')[0] for x in test['Name']]\n",
    "test['FirstNames'] = [' '.join(x.split(' ')[2::]) for x in test['Name']]\n",
    "test = test.drop(['Name'], axis=1)\n",
    "test[\"Title\"] = np.where(test['Title'].isin([\"Dr.\", \"Rev.\", \"Col.\", \"Major.\", \"Jonkheer.\", \"Don.\", \"Capt.\"]), \"Other\", test[\"Title\"])\n",
    "test[\"Title\"] = np.where(test['Title'].isin([\"Mme.\"]), \"Mrs.\", test[\"Title\"])\n",
    "test[\"Title\"] = np.where(test['Title'].isin([\"Mlle.\", \"Ms.\"]), \"Miss.\", test[\"Title\"])\n",
    "\n",
    "# -- Age processing\n",
    "imputed_data = pd.DataFrame(data=imp.transform(test.drop([\"Sex\", \"Ticket\", \"Cabin\", \"Embarked\", \"Title\", \"LastName\", \"FirstNames\"], axis=1)), columns=['Pclass', 'Age', 'SibSp', 'Parch', 'Fare'])\n",
    "imputed_data = imputed_data.set_index(test.index)\n",
    "test[['Pclass', 'Age', 'SibSp', 'Parch', 'Fare']] = imputed_data\n",
    "test.head()\n",
    "\n",
    "# -- Cabin processing\n",
    "test[\"Cabin\"] = test[\"Cabin\"].fillna(\"None\")\n",
    "test[\"CabinYesNo\"] = np.where(test[\"Cabin\"]=='None', 0, 1)\n",
    "test[\"NbCabin\"] = np.where(test[\"Cabin\"]==\"None\", 0, test[\"Cabin\"].str.split().str.len())\n",
    "test[\"ClassCabin\"] = np.where(test[\"Cabin\"]==\"None\", \"None\", test[\"Cabin\"].astype(str).str[0])\n",
    "test[\"ClassCabin\"] = np.where(test['ClassCabin'].isin([\"G\", \"T\", \"F\", \"A\"]), \"Other\", test[\"ClassCabin\"])\n",
    "\n",
    "# -- Emarked processing\n",
    "test[\"Embarked\"] = test[\"Embarked\"].fillna(method=\"backfill\")"
   ]
  },
  {
   "cell_type": "code",
   "execution_count": 744,
   "metadata": {},
   "outputs": [],
   "source": [
    "test = test[features]"
   ]
  },
  {
   "cell_type": "code",
   "execution_count": 745,
   "metadata": {},
   "outputs": [],
   "source": [
    "test = pd.get_dummies(test, columns=[\"Pclass\", \"Sex\", \"Embarked\", \"Title\", \"ClassCabin\"])"
   ]
  },
  {
   "cell_type": "code",
   "execution_count": 746,
   "metadata": {},
   "outputs": [],
   "source": [
    "test[[\"Age\", \"SibSp\", \"Parch\", \"Fare\"]] = scaler.transform(test[[\"Age\", \"SibSp\", \"Parch\", \"Fare\"]]) "
   ]
  },
  {
   "cell_type": "code",
   "execution_count": 747,
   "metadata": {},
   "outputs": [
    {
     "data": {
      "text/html": [
       "<div>\n",
       "<style scoped>\n",
       "    .dataframe tbody tr th:only-of-type {\n",
       "        vertical-align: middle;\n",
       "    }\n",
       "\n",
       "    .dataframe tbody tr th {\n",
       "        vertical-align: top;\n",
       "    }\n",
       "\n",
       "    .dataframe thead th {\n",
       "        text-align: right;\n",
       "    }\n",
       "</style>\n",
       "<table border=\"1\" class=\"dataframe\">\n",
       "  <thead>\n",
       "    <tr style=\"text-align: right;\">\n",
       "      <th></th>\n",
       "      <th>Age</th>\n",
       "      <th>SibSp</th>\n",
       "      <th>Parch</th>\n",
       "      <th>Fare</th>\n",
       "      <th>CabinYesNo</th>\n",
       "      <th>Pclass_1.0</th>\n",
       "      <th>Pclass_2.0</th>\n",
       "      <th>Pclass_3.0</th>\n",
       "      <th>Sex_female</th>\n",
       "      <th>Sex_male</th>\n",
       "      <th>...</th>\n",
       "      <th>Title_Mr.</th>\n",
       "      <th>Title_Mrs.</th>\n",
       "      <th>Title_None</th>\n",
       "      <th>Title_Other</th>\n",
       "      <th>ClassCabin_B</th>\n",
       "      <th>ClassCabin_C</th>\n",
       "      <th>ClassCabin_D</th>\n",
       "      <th>ClassCabin_E</th>\n",
       "      <th>ClassCabin_None</th>\n",
       "      <th>ClassCabin_Other</th>\n",
       "    </tr>\n",
       "    <tr>\n",
       "      <th>PassengerId</th>\n",
       "      <th></th>\n",
       "      <th></th>\n",
       "      <th></th>\n",
       "      <th></th>\n",
       "      <th></th>\n",
       "      <th></th>\n",
       "      <th></th>\n",
       "      <th></th>\n",
       "      <th></th>\n",
       "      <th></th>\n",
       "      <th></th>\n",
       "      <th></th>\n",
       "      <th></th>\n",
       "      <th></th>\n",
       "      <th></th>\n",
       "      <th></th>\n",
       "      <th></th>\n",
       "      <th></th>\n",
       "      <th></th>\n",
       "      <th></th>\n",
       "      <th></th>\n",
       "    </tr>\n",
       "  </thead>\n",
       "  <tbody>\n",
       "    <tr>\n",
       "      <th>892</th>\n",
       "      <td>0.346226</td>\n",
       "      <td>-0.473843</td>\n",
       "      <td>-0.473999</td>\n",
       "      <td>-0.491142</td>\n",
       "      <td>0</td>\n",
       "      <td>0</td>\n",
       "      <td>0</td>\n",
       "      <td>1</td>\n",
       "      <td>0</td>\n",
       "      <td>1</td>\n",
       "      <td>...</td>\n",
       "      <td>1</td>\n",
       "      <td>0</td>\n",
       "      <td>0</td>\n",
       "      <td>0</td>\n",
       "      <td>0</td>\n",
       "      <td>0</td>\n",
       "      <td>0</td>\n",
       "      <td>0</td>\n",
       "      <td>1</td>\n",
       "      <td>0</td>\n",
       "    </tr>\n",
       "    <tr>\n",
       "      <th>893</th>\n",
       "      <td>1.281318</td>\n",
       "      <td>0.433082</td>\n",
       "      <td>-0.473999</td>\n",
       "      <td>-0.507830</td>\n",
       "      <td>0</td>\n",
       "      <td>0</td>\n",
       "      <td>0</td>\n",
       "      <td>1</td>\n",
       "      <td>1</td>\n",
       "      <td>0</td>\n",
       "      <td>...</td>\n",
       "      <td>0</td>\n",
       "      <td>1</td>\n",
       "      <td>0</td>\n",
       "      <td>0</td>\n",
       "      <td>0</td>\n",
       "      <td>0</td>\n",
       "      <td>0</td>\n",
       "      <td>0</td>\n",
       "      <td>1</td>\n",
       "      <td>0</td>\n",
       "    </tr>\n",
       "    <tr>\n",
       "      <th>894</th>\n",
       "      <td>2.403430</td>\n",
       "      <td>-0.473843</td>\n",
       "      <td>-0.473999</td>\n",
       "      <td>-0.453741</td>\n",
       "      <td>0</td>\n",
       "      <td>0</td>\n",
       "      <td>1</td>\n",
       "      <td>0</td>\n",
       "      <td>0</td>\n",
       "      <td>1</td>\n",
       "      <td>...</td>\n",
       "      <td>1</td>\n",
       "      <td>0</td>\n",
       "      <td>0</td>\n",
       "      <td>0</td>\n",
       "      <td>0</td>\n",
       "      <td>0</td>\n",
       "      <td>0</td>\n",
       "      <td>0</td>\n",
       "      <td>1</td>\n",
       "      <td>0</td>\n",
       "    </tr>\n",
       "    <tr>\n",
       "      <th>895</th>\n",
       "      <td>-0.214830</td>\n",
       "      <td>-0.473843</td>\n",
       "      <td>-0.473999</td>\n",
       "      <td>-0.474370</td>\n",
       "      <td>0</td>\n",
       "      <td>0</td>\n",
       "      <td>0</td>\n",
       "      <td>1</td>\n",
       "      <td>0</td>\n",
       "      <td>1</td>\n",
       "      <td>...</td>\n",
       "      <td>1</td>\n",
       "      <td>0</td>\n",
       "      <td>0</td>\n",
       "      <td>0</td>\n",
       "      <td>0</td>\n",
       "      <td>0</td>\n",
       "      <td>0</td>\n",
       "      <td>0</td>\n",
       "      <td>1</td>\n",
       "      <td>0</td>\n",
       "    </tr>\n",
       "    <tr>\n",
       "      <th>896</th>\n",
       "      <td>-0.588867</td>\n",
       "      <td>0.433082</td>\n",
       "      <td>0.766764</td>\n",
       "      <td>-0.401413</td>\n",
       "      <td>0</td>\n",
       "      <td>0</td>\n",
       "      <td>0</td>\n",
       "      <td>1</td>\n",
       "      <td>1</td>\n",
       "      <td>0</td>\n",
       "      <td>...</td>\n",
       "      <td>0</td>\n",
       "      <td>1</td>\n",
       "      <td>0</td>\n",
       "      <td>0</td>\n",
       "      <td>0</td>\n",
       "      <td>0</td>\n",
       "      <td>0</td>\n",
       "      <td>0</td>\n",
       "      <td>1</td>\n",
       "      <td>0</td>\n",
       "    </tr>\n",
       "  </tbody>\n",
       "</table>\n",
       "<p>5 rows × 25 columns</p>\n",
       "</div>"
      ],
      "text/plain": [
       "                  Age     SibSp     Parch      Fare  CabinYesNo  Pclass_1.0  \\\n",
       "PassengerId                                                                   \n",
       "892          0.346226 -0.473843 -0.473999 -0.491142           0           0   \n",
       "893          1.281318  0.433082 -0.473999 -0.507830           0           0   \n",
       "894          2.403430 -0.473843 -0.473999 -0.453741           0           0   \n",
       "895         -0.214830 -0.473843 -0.473999 -0.474370           0           0   \n",
       "896         -0.588867  0.433082  0.766764 -0.401413           0           0   \n",
       "\n",
       "             Pclass_2.0  Pclass_3.0  Sex_female  Sex_male  ...  Title_Mr.  \\\n",
       "PassengerId                                                ...              \n",
       "892                   0           1           0         1  ...          1   \n",
       "893                   0           1           1         0  ...          0   \n",
       "894                   1           0           0         1  ...          1   \n",
       "895                   0           1           0         1  ...          1   \n",
       "896                   0           1           1         0  ...          0   \n",
       "\n",
       "             Title_Mrs.  Title_None  Title_Other  ClassCabin_B  ClassCabin_C  \\\n",
       "PassengerId                                                                    \n",
       "892                   0           0            0             0             0   \n",
       "893                   1           0            0             0             0   \n",
       "894                   0           0            0             0             0   \n",
       "895                   0           0            0             0             0   \n",
       "896                   1           0            0             0             0   \n",
       "\n",
       "             ClassCabin_D  ClassCabin_E  ClassCabin_None  ClassCabin_Other  \n",
       "PassengerId                                                                 \n",
       "892                     0             0                1                 0  \n",
       "893                     0             0                1                 0  \n",
       "894                     0             0                1                 0  \n",
       "895                     0             0                1                 0  \n",
       "896                     0             0                1                 0  \n",
       "\n",
       "[5 rows x 25 columns]"
      ]
     },
     "execution_count": 747,
     "metadata": {},
     "output_type": "execute_result"
    }
   ],
   "source": [
    "test.head()"
   ]
  },
  {
   "cell_type": "code",
   "execution_count": 748,
   "metadata": {},
   "outputs": [
    {
     "data": {
      "text/plain": [
       "array([0, 1, 0, 0, 1, 0, 1, 0, 1, 0, 0, 0, 1, 0, 1, 1, 0, 0, 0, 1, 0, 0,\n",
       "       1, 0, 1, 0, 1, 0, 0, 0, 0, 0, 1, 1, 0, 0, 1, 1, 0, 0, 0, 0, 0, 1,\n",
       "       1, 0, 0, 0, 1, 1, 0, 0, 0, 1, 0, 0, 0, 0, 0, 1, 0, 0, 0, 1, 1, 1,\n",
       "       1, 0, 0, 1, 1, 0, 0, 1, 1, 0, 0, 1, 0, 1, 0, 0, 0, 0, 0, 0, 1, 1,\n",
       "       1, 0, 1, 0, 1, 0, 0, 0, 1, 0, 1, 0, 1, 0, 0, 0, 1, 0, 0, 0, 0, 0,\n",
       "       0, 1, 1, 1, 1, 0, 0, 1, 0, 0, 1, 0, 1, 0, 0, 1, 0, 1, 0, 0, 0, 0,\n",
       "       0, 0, 0, 0, 0, 0, 1, 0, 1, 1, 0, 0, 0, 0, 0, 0, 0, 0, 1, 0, 0, 1,\n",
       "       0, 0, 1, 1, 0, 0, 1, 0, 0, 0, 0, 0, 0, 0, 1, 1, 0, 0, 0, 0, 0, 0,\n",
       "       0, 0, 1, 1, 0, 0, 1, 0, 1, 0, 0, 0, 1, 0, 0, 0, 0, 0, 0, 0, 1, 1,\n",
       "       0, 1, 1, 0, 0, 1, 0, 0, 1, 0, 1, 0, 0, 0, 0, 1, 1, 0, 1, 0, 1, 0,\n",
       "       1, 0, 1, 0, 1, 1, 0, 1, 0, 0, 0, 1, 0, 0, 0, 0, 0, 0, 1, 1, 1, 1,\n",
       "       0, 0, 0, 0, 1, 0, 0, 1, 1, 0, 0, 0, 0, 0, 0, 0, 1, 0, 0, 0, 0, 1,\n",
       "       0, 0, 0, 0, 1, 0, 0, 0, 1, 1, 0, 1, 0, 0, 0, 0, 1, 0, 1, 1, 1, 0,\n",
       "       0, 0, 1, 0, 0, 1, 0, 1, 0, 0, 1, 0, 0, 0, 0, 0, 0, 0, 1, 1, 0, 0,\n",
       "       0, 1, 0, 0, 0, 1, 1, 1, 0, 0, 0, 0, 0, 1, 0, 0, 1, 0, 1, 0, 0, 0,\n",
       "       1, 0, 0, 1, 0, 0, 0, 0, 0, 1, 0, 0, 0, 1, 0, 1, 0, 1, 0, 0, 1, 0,\n",
       "       0, 0, 1, 0, 1, 0, 0, 1, 0, 1, 1, 0, 1, 1, 0, 0, 1, 0, 0, 1, 0, 0,\n",
       "       1, 1, 1, 0, 0, 0, 0, 0, 1, 1, 0, 0, 0, 0, 0, 0, 0, 1, 0, 0, 0, 1,\n",
       "       0, 1, 0, 0, 1, 0, 1, 0, 0, 1, 0, 0, 1, 1, 1, 1, 0, 0, 1, 0, 0, 1])"
      ]
     },
     "execution_count": 748,
     "metadata": {},
     "output_type": "execute_result"
    }
   ],
   "source": [
    "final_classifier.predict(test)"
   ]
  }
 ],
 "metadata": {
  "kernelspec": {
   "display_name": "Python 3",
   "language": "python",
   "name": "python3"
  },
  "language_info": {
   "codemirror_mode": {
    "name": "ipython",
    "version": 3
   },
   "file_extension": ".py",
   "mimetype": "text/x-python",
   "name": "python",
   "nbconvert_exporter": "python",
   "pygments_lexer": "ipython3",
   "version": "3.6.5"
  },
  "varInspector": {
   "cols": {
    "lenName": 16,
    "lenType": 16,
    "lenVar": 40
   },
   "kernels_config": {
    "python": {
     "delete_cmd_postfix": "",
     "delete_cmd_prefix": "del ",
     "library": "var_list.py",
     "varRefreshCmd": "print(var_dic_list())"
    },
    "r": {
     "delete_cmd_postfix": ") ",
     "delete_cmd_prefix": "rm(",
     "library": "var_list.r",
     "varRefreshCmd": "cat(var_dic_list()) "
    }
   },
   "types_to_exclude": [
    "module",
    "function",
    "builtin_function_or_method",
    "instance",
    "_Feature"
   ],
   "window_display": false
  }
 },
 "nbformat": 4,
 "nbformat_minor": 2
}
